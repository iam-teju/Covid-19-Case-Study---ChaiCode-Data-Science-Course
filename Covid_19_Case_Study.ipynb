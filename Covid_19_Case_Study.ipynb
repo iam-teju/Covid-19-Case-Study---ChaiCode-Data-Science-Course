{
  "nbformat": 4,
  "nbformat_minor": 0,
  "metadata": {
    "colab": {
      "provenance": [],
      "authorship_tag": "ABX9TyNvY6zAbCnJ6ON5bfc9chzA",
      "include_colab_link": true
    },
    "kernelspec": {
      "name": "python3",
      "display_name": "Python 3"
    },
    "language_info": {
      "name": "python"
    }
  },
  "cells": [
    {
      "cell_type": "markdown",
      "metadata": {
        "id": "view-in-github",
        "colab_type": "text"
      },
      "source": [
        "<a href=\"https://colab.research.google.com/github/iam-teju/Covid-19-Case-Study---ChaiCode-Data-Science-Course/blob/main/Covid_19_Case_Study.ipynb\" target=\"_parent\"><img src=\"https://colab.research.google.com/assets/colab-badge.svg\" alt=\"Open In Colab\"/></a>"
      ]
    },
    {
      "cell_type": "code",
      "execution_count": 3,
      "metadata": {
        "id": "kw9xT1tcw1uT"
      },
      "outputs": [],
      "source": [
        "import pandas as pd"
      ]
    },
    {
      "cell_type": "code",
      "source": [
        "from google.colab import drive\n",
        "drive.mount('/content/drive')"
      ],
      "metadata": {
        "colab": {
          "base_uri": "https://localhost:8080/"
        },
        "id": "Vl9lkDeWyMZA",
        "outputId": "a86338b1-7831-40fc-8f5d-d3828f0b43bd"
      },
      "execution_count": 1,
      "outputs": [
        {
          "output_type": "stream",
          "name": "stdout",
          "text": [
            "Mounted at /content/drive\n"
          ]
        }
      ]
    },
    {
      "cell_type": "markdown",
      "source": [
        "#**Question 1: Data Loading**"
      ],
      "metadata": {
        "id": "bv4t7Aaf2zfh"
      }
    },
    {
      "cell_type": "markdown",
      "source": [
        "##**Q1.1: How do you load the COVID-19 datasets for confirmed cases, deaths, and recoveries into Python using Pandas?**"
      ],
      "metadata": {
        "id": "-tNLgMrIxLd-"
      }
    },
    {
      "cell_type": "code",
      "source": [
        "confirmed_data = pd.read_csv('/content/drive/MyDrive/Covid-19 Case Study/covid_19_confirmed_v1.csv')\n",
        "deaths_data = pd.read_csv('/content/drive/MyDrive/Covid-19 Case Study/covid_19_deaths_v1.csv', skiprows=1) # It turns out that in this particular “deaths” & \"recovered\" CSV, the very first line is not the real header row but some extraneous text that pandas is treating as the column names.\n",
        "recovered_data = pd.read_csv('/content/drive/MyDrive/Covid-19 Case Study/covid_19_recovered_v1.csv', skiprows=1) # skip that first line so that pandas can read the true header on the second line."
      ],
      "metadata": {
        "id": "55n_vHqkxViV"
      },
      "execution_count": 26,
      "outputs": []
    },
    {
      "cell_type": "code",
      "source": [
        "confirmed_data.head()"
      ],
      "metadata": {
        "colab": {
          "base_uri": "https://localhost:8080/",
          "height": 236
        },
        "id": "bWnwFqXQzLz8",
        "outputId": "3b644fc4-d3e0-4cb1-e2f7-581333f25b44"
      },
      "execution_count": 27,
      "outputs": [
        {
          "output_type": "execute_result",
          "data": {
            "text/plain": [
              "  Province/State Country/Region       Lat       Long  1/22/20  1/23/20  \\\n",
              "0            NaN    Afghanistan  33.93911  67.709953        0        0   \n",
              "1            NaN        Albania  41.15330  20.168300        0        0   \n",
              "2            NaN        Algeria  28.03390   1.659600        0        0   \n",
              "3            NaN        Andorra  42.50630   1.521800        0        0   \n",
              "4            NaN         Angola -11.20270  17.873900        0        0   \n",
              "\n",
              "   1/24/20  1/25/20  1/26/20  1/27/20  ...  5/20/21  5/21/21  5/22/21  \\\n",
              "0        0        0        0        0  ...    64575    65080    65486   \n",
              "1        0        0        0        0  ...   132118   132153   132176   \n",
              "2        0        0        0        0  ...   126156   126434   126651   \n",
              "3        0        0        0        0  ...    13569    13569    13569   \n",
              "4        0        0        0        0  ...    31661    31909    32149   \n",
              "\n",
              "   5/23/21  5/24/21  5/25/21  5/26/21  5/27/21  5/28/21  5/29/21  \n",
              "0    65728    66275    66903    67743    68366    69130    70111  \n",
              "1   132209   132215   132229   132244   132264   132285   132297  \n",
              "2   126860   127107   127361   127646   127926   128198   128456  \n",
              "3    13569    13569    13664    13671    13682    13693    13693  \n",
              "4    32441    32623    32933    33338    33607    33944    34180  \n",
              "\n",
              "[5 rows x 498 columns]"
            ],
            "text/html": [
              "\n",
              "  <div id=\"df-efba63a1-b760-44c7-85c1-2a820cf307ef\" class=\"colab-df-container\">\n",
              "    <div>\n",
              "<style scoped>\n",
              "    .dataframe tbody tr th:only-of-type {\n",
              "        vertical-align: middle;\n",
              "    }\n",
              "\n",
              "    .dataframe tbody tr th {\n",
              "        vertical-align: top;\n",
              "    }\n",
              "\n",
              "    .dataframe thead th {\n",
              "        text-align: right;\n",
              "    }\n",
              "</style>\n",
              "<table border=\"1\" class=\"dataframe\">\n",
              "  <thead>\n",
              "    <tr style=\"text-align: right;\">\n",
              "      <th></th>\n",
              "      <th>Province/State</th>\n",
              "      <th>Country/Region</th>\n",
              "      <th>Lat</th>\n",
              "      <th>Long</th>\n",
              "      <th>1/22/20</th>\n",
              "      <th>1/23/20</th>\n",
              "      <th>1/24/20</th>\n",
              "      <th>1/25/20</th>\n",
              "      <th>1/26/20</th>\n",
              "      <th>1/27/20</th>\n",
              "      <th>...</th>\n",
              "      <th>5/20/21</th>\n",
              "      <th>5/21/21</th>\n",
              "      <th>5/22/21</th>\n",
              "      <th>5/23/21</th>\n",
              "      <th>5/24/21</th>\n",
              "      <th>5/25/21</th>\n",
              "      <th>5/26/21</th>\n",
              "      <th>5/27/21</th>\n",
              "      <th>5/28/21</th>\n",
              "      <th>5/29/21</th>\n",
              "    </tr>\n",
              "  </thead>\n",
              "  <tbody>\n",
              "    <tr>\n",
              "      <th>0</th>\n",
              "      <td>NaN</td>\n",
              "      <td>Afghanistan</td>\n",
              "      <td>33.93911</td>\n",
              "      <td>67.709953</td>\n",
              "      <td>0</td>\n",
              "      <td>0</td>\n",
              "      <td>0</td>\n",
              "      <td>0</td>\n",
              "      <td>0</td>\n",
              "      <td>0</td>\n",
              "      <td>...</td>\n",
              "      <td>64575</td>\n",
              "      <td>65080</td>\n",
              "      <td>65486</td>\n",
              "      <td>65728</td>\n",
              "      <td>66275</td>\n",
              "      <td>66903</td>\n",
              "      <td>67743</td>\n",
              "      <td>68366</td>\n",
              "      <td>69130</td>\n",
              "      <td>70111</td>\n",
              "    </tr>\n",
              "    <tr>\n",
              "      <th>1</th>\n",
              "      <td>NaN</td>\n",
              "      <td>Albania</td>\n",
              "      <td>41.15330</td>\n",
              "      <td>20.168300</td>\n",
              "      <td>0</td>\n",
              "      <td>0</td>\n",
              "      <td>0</td>\n",
              "      <td>0</td>\n",
              "      <td>0</td>\n",
              "      <td>0</td>\n",
              "      <td>...</td>\n",
              "      <td>132118</td>\n",
              "      <td>132153</td>\n",
              "      <td>132176</td>\n",
              "      <td>132209</td>\n",
              "      <td>132215</td>\n",
              "      <td>132229</td>\n",
              "      <td>132244</td>\n",
              "      <td>132264</td>\n",
              "      <td>132285</td>\n",
              "      <td>132297</td>\n",
              "    </tr>\n",
              "    <tr>\n",
              "      <th>2</th>\n",
              "      <td>NaN</td>\n",
              "      <td>Algeria</td>\n",
              "      <td>28.03390</td>\n",
              "      <td>1.659600</td>\n",
              "      <td>0</td>\n",
              "      <td>0</td>\n",
              "      <td>0</td>\n",
              "      <td>0</td>\n",
              "      <td>0</td>\n",
              "      <td>0</td>\n",
              "      <td>...</td>\n",
              "      <td>126156</td>\n",
              "      <td>126434</td>\n",
              "      <td>126651</td>\n",
              "      <td>126860</td>\n",
              "      <td>127107</td>\n",
              "      <td>127361</td>\n",
              "      <td>127646</td>\n",
              "      <td>127926</td>\n",
              "      <td>128198</td>\n",
              "      <td>128456</td>\n",
              "    </tr>\n",
              "    <tr>\n",
              "      <th>3</th>\n",
              "      <td>NaN</td>\n",
              "      <td>Andorra</td>\n",
              "      <td>42.50630</td>\n",
              "      <td>1.521800</td>\n",
              "      <td>0</td>\n",
              "      <td>0</td>\n",
              "      <td>0</td>\n",
              "      <td>0</td>\n",
              "      <td>0</td>\n",
              "      <td>0</td>\n",
              "      <td>...</td>\n",
              "      <td>13569</td>\n",
              "      <td>13569</td>\n",
              "      <td>13569</td>\n",
              "      <td>13569</td>\n",
              "      <td>13569</td>\n",
              "      <td>13664</td>\n",
              "      <td>13671</td>\n",
              "      <td>13682</td>\n",
              "      <td>13693</td>\n",
              "      <td>13693</td>\n",
              "    </tr>\n",
              "    <tr>\n",
              "      <th>4</th>\n",
              "      <td>NaN</td>\n",
              "      <td>Angola</td>\n",
              "      <td>-11.20270</td>\n",
              "      <td>17.873900</td>\n",
              "      <td>0</td>\n",
              "      <td>0</td>\n",
              "      <td>0</td>\n",
              "      <td>0</td>\n",
              "      <td>0</td>\n",
              "      <td>0</td>\n",
              "      <td>...</td>\n",
              "      <td>31661</td>\n",
              "      <td>31909</td>\n",
              "      <td>32149</td>\n",
              "      <td>32441</td>\n",
              "      <td>32623</td>\n",
              "      <td>32933</td>\n",
              "      <td>33338</td>\n",
              "      <td>33607</td>\n",
              "      <td>33944</td>\n",
              "      <td>34180</td>\n",
              "    </tr>\n",
              "  </tbody>\n",
              "</table>\n",
              "<p>5 rows × 498 columns</p>\n",
              "</div>\n",
              "    <div class=\"colab-df-buttons\">\n",
              "\n",
              "  <div class=\"colab-df-container\">\n",
              "    <button class=\"colab-df-convert\" onclick=\"convertToInteractive('df-efba63a1-b760-44c7-85c1-2a820cf307ef')\"\n",
              "            title=\"Convert this dataframe to an interactive table.\"\n",
              "            style=\"display:none;\">\n",
              "\n",
              "  <svg xmlns=\"http://www.w3.org/2000/svg\" height=\"24px\" viewBox=\"0 -960 960 960\">\n",
              "    <path d=\"M120-120v-720h720v720H120Zm60-500h600v-160H180v160Zm220 220h160v-160H400v160Zm0 220h160v-160H400v160ZM180-400h160v-160H180v160Zm440 0h160v-160H620v160ZM180-180h160v-160H180v160Zm440 0h160v-160H620v160Z\"/>\n",
              "  </svg>\n",
              "    </button>\n",
              "\n",
              "  <style>\n",
              "    .colab-df-container {\n",
              "      display:flex;\n",
              "      gap: 12px;\n",
              "    }\n",
              "\n",
              "    .colab-df-convert {\n",
              "      background-color: #E8F0FE;\n",
              "      border: none;\n",
              "      border-radius: 50%;\n",
              "      cursor: pointer;\n",
              "      display: none;\n",
              "      fill: #1967D2;\n",
              "      height: 32px;\n",
              "      padding: 0 0 0 0;\n",
              "      width: 32px;\n",
              "    }\n",
              "\n",
              "    .colab-df-convert:hover {\n",
              "      background-color: #E2EBFA;\n",
              "      box-shadow: 0px 1px 2px rgba(60, 64, 67, 0.3), 0px 1px 3px 1px rgba(60, 64, 67, 0.15);\n",
              "      fill: #174EA6;\n",
              "    }\n",
              "\n",
              "    .colab-df-buttons div {\n",
              "      margin-bottom: 4px;\n",
              "    }\n",
              "\n",
              "    [theme=dark] .colab-df-convert {\n",
              "      background-color: #3B4455;\n",
              "      fill: #D2E3FC;\n",
              "    }\n",
              "\n",
              "    [theme=dark] .colab-df-convert:hover {\n",
              "      background-color: #434B5C;\n",
              "      box-shadow: 0px 1px 3px 1px rgba(0, 0, 0, 0.15);\n",
              "      filter: drop-shadow(0px 1px 2px rgba(0, 0, 0, 0.3));\n",
              "      fill: #FFFFFF;\n",
              "    }\n",
              "  </style>\n",
              "\n",
              "    <script>\n",
              "      const buttonEl =\n",
              "        document.querySelector('#df-efba63a1-b760-44c7-85c1-2a820cf307ef button.colab-df-convert');\n",
              "      buttonEl.style.display =\n",
              "        google.colab.kernel.accessAllowed ? 'block' : 'none';\n",
              "\n",
              "      async function convertToInteractive(key) {\n",
              "        const element = document.querySelector('#df-efba63a1-b760-44c7-85c1-2a820cf307ef');\n",
              "        const dataTable =\n",
              "          await google.colab.kernel.invokeFunction('convertToInteractive',\n",
              "                                                    [key], {});\n",
              "        if (!dataTable) return;\n",
              "\n",
              "        const docLinkHtml = 'Like what you see? Visit the ' +\n",
              "          '<a target=\"_blank\" href=https://colab.research.google.com/notebooks/data_table.ipynb>data table notebook</a>'\n",
              "          + ' to learn more about interactive tables.';\n",
              "        element.innerHTML = '';\n",
              "        dataTable['output_type'] = 'display_data';\n",
              "        await google.colab.output.renderOutput(dataTable, element);\n",
              "        const docLink = document.createElement('div');\n",
              "        docLink.innerHTML = docLinkHtml;\n",
              "        element.appendChild(docLink);\n",
              "      }\n",
              "    </script>\n",
              "  </div>\n",
              "\n",
              "\n",
              "<div id=\"df-7874d252-5671-4db8-a674-e4510b7435b1\">\n",
              "  <button class=\"colab-df-quickchart\" onclick=\"quickchart('df-7874d252-5671-4db8-a674-e4510b7435b1')\"\n",
              "            title=\"Suggest charts\"\n",
              "            style=\"display:none;\">\n",
              "\n",
              "<svg xmlns=\"http://www.w3.org/2000/svg\" height=\"24px\"viewBox=\"0 0 24 24\"\n",
              "     width=\"24px\">\n",
              "    <g>\n",
              "        <path d=\"M19 3H5c-1.1 0-2 .9-2 2v14c0 1.1.9 2 2 2h14c1.1 0 2-.9 2-2V5c0-1.1-.9-2-2-2zM9 17H7v-7h2v7zm4 0h-2V7h2v10zm4 0h-2v-4h2v4z\"/>\n",
              "    </g>\n",
              "</svg>\n",
              "  </button>\n",
              "\n",
              "<style>\n",
              "  .colab-df-quickchart {\n",
              "      --bg-color: #E8F0FE;\n",
              "      --fill-color: #1967D2;\n",
              "      --hover-bg-color: #E2EBFA;\n",
              "      --hover-fill-color: #174EA6;\n",
              "      --disabled-fill-color: #AAA;\n",
              "      --disabled-bg-color: #DDD;\n",
              "  }\n",
              "\n",
              "  [theme=dark] .colab-df-quickchart {\n",
              "      --bg-color: #3B4455;\n",
              "      --fill-color: #D2E3FC;\n",
              "      --hover-bg-color: #434B5C;\n",
              "      --hover-fill-color: #FFFFFF;\n",
              "      --disabled-bg-color: #3B4455;\n",
              "      --disabled-fill-color: #666;\n",
              "  }\n",
              "\n",
              "  .colab-df-quickchart {\n",
              "    background-color: var(--bg-color);\n",
              "    border: none;\n",
              "    border-radius: 50%;\n",
              "    cursor: pointer;\n",
              "    display: none;\n",
              "    fill: var(--fill-color);\n",
              "    height: 32px;\n",
              "    padding: 0;\n",
              "    width: 32px;\n",
              "  }\n",
              "\n",
              "  .colab-df-quickchart:hover {\n",
              "    background-color: var(--hover-bg-color);\n",
              "    box-shadow: 0 1px 2px rgba(60, 64, 67, 0.3), 0 1px 3px 1px rgba(60, 64, 67, 0.15);\n",
              "    fill: var(--button-hover-fill-color);\n",
              "  }\n",
              "\n",
              "  .colab-df-quickchart-complete:disabled,\n",
              "  .colab-df-quickchart-complete:disabled:hover {\n",
              "    background-color: var(--disabled-bg-color);\n",
              "    fill: var(--disabled-fill-color);\n",
              "    box-shadow: none;\n",
              "  }\n",
              "\n",
              "  .colab-df-spinner {\n",
              "    border: 2px solid var(--fill-color);\n",
              "    border-color: transparent;\n",
              "    border-bottom-color: var(--fill-color);\n",
              "    animation:\n",
              "      spin 1s steps(1) infinite;\n",
              "  }\n",
              "\n",
              "  @keyframes spin {\n",
              "    0% {\n",
              "      border-color: transparent;\n",
              "      border-bottom-color: var(--fill-color);\n",
              "      border-left-color: var(--fill-color);\n",
              "    }\n",
              "    20% {\n",
              "      border-color: transparent;\n",
              "      border-left-color: var(--fill-color);\n",
              "      border-top-color: var(--fill-color);\n",
              "    }\n",
              "    30% {\n",
              "      border-color: transparent;\n",
              "      border-left-color: var(--fill-color);\n",
              "      border-top-color: var(--fill-color);\n",
              "      border-right-color: var(--fill-color);\n",
              "    }\n",
              "    40% {\n",
              "      border-color: transparent;\n",
              "      border-right-color: var(--fill-color);\n",
              "      border-top-color: var(--fill-color);\n",
              "    }\n",
              "    60% {\n",
              "      border-color: transparent;\n",
              "      border-right-color: var(--fill-color);\n",
              "    }\n",
              "    80% {\n",
              "      border-color: transparent;\n",
              "      border-right-color: var(--fill-color);\n",
              "      border-bottom-color: var(--fill-color);\n",
              "    }\n",
              "    90% {\n",
              "      border-color: transparent;\n",
              "      border-bottom-color: var(--fill-color);\n",
              "    }\n",
              "  }\n",
              "</style>\n",
              "\n",
              "  <script>\n",
              "    async function quickchart(key) {\n",
              "      const quickchartButtonEl =\n",
              "        document.querySelector('#' + key + ' button');\n",
              "      quickchartButtonEl.disabled = true;  // To prevent multiple clicks.\n",
              "      quickchartButtonEl.classList.add('colab-df-spinner');\n",
              "      try {\n",
              "        const charts = await google.colab.kernel.invokeFunction(\n",
              "            'suggestCharts', [key], {});\n",
              "      } catch (error) {\n",
              "        console.error('Error during call to suggestCharts:', error);\n",
              "      }\n",
              "      quickchartButtonEl.classList.remove('colab-df-spinner');\n",
              "      quickchartButtonEl.classList.add('colab-df-quickchart-complete');\n",
              "    }\n",
              "    (() => {\n",
              "      let quickchartButtonEl =\n",
              "        document.querySelector('#df-7874d252-5671-4db8-a674-e4510b7435b1 button');\n",
              "      quickchartButtonEl.style.display =\n",
              "        google.colab.kernel.accessAllowed ? 'block' : 'none';\n",
              "    })();\n",
              "  </script>\n",
              "</div>\n",
              "\n",
              "    </div>\n",
              "  </div>\n"
            ],
            "application/vnd.google.colaboratory.intrinsic+json": {
              "type": "dataframe",
              "variable_name": "confirmed_data"
            }
          },
          "metadata": {},
          "execution_count": 27
        }
      ]
    },
    {
      "cell_type": "code",
      "source": [
        "deaths_data.head()"
      ],
      "metadata": {
        "colab": {
          "base_uri": "https://localhost:8080/",
          "height": 236
        },
        "id": "5gSzaC_SzOh1",
        "outputId": "bfc93ccf-ccc1-4699-df94-216d013d514e"
      },
      "execution_count": 28,
      "outputs": [
        {
          "output_type": "execute_result",
          "data": {
            "text/plain": [
              "  Province/State Country/Region       Lat       Long  1/22/20  1/23/20  \\\n",
              "0            NaN    Afghanistan  33.93911  67.709953        0        0   \n",
              "1            NaN        Albania  41.15330  20.168300        0        0   \n",
              "2            NaN        Algeria  28.03390   1.659600        0        0   \n",
              "3            NaN        Andorra  42.50630   1.521800        0        0   \n",
              "4            NaN         Angola -11.20270  17.873900        0        0   \n",
              "\n",
              "   1/24/20  1/25/20  1/26/20  1/27/20  ...  5/20/21  5/21/21  5/22/21  \\\n",
              "0        0        0        0        0  ...     2772     2782     2792   \n",
              "1        0        0        0        0  ...     2440     2441     2442   \n",
              "2        0        0        0        0  ...     3401     3405     3411   \n",
              "3        0        0        0        0  ...      127      127      127   \n",
              "4        0        0        0        0  ...      704      709      715   \n",
              "\n",
              "   5/23/21  5/24/21  5/25/21  5/26/21  5/27/21  5/28/21  5/29/21  \n",
              "0     2802     2812     2836     2855     2869     2881     2899  \n",
              "1     2444     2445     2447     2447     2447     2448     2449  \n",
              "2     3418     3426     3433     3440     3448     3455     3460  \n",
              "3      127      127      127      127      127      127      127  \n",
              "4      725      731      735      742      745      749      757  \n",
              "\n",
              "[5 rows x 498 columns]"
            ],
            "text/html": [
              "\n",
              "  <div id=\"df-91cf40f3-3b73-40a4-8dca-2807ff50a555\" class=\"colab-df-container\">\n",
              "    <div>\n",
              "<style scoped>\n",
              "    .dataframe tbody tr th:only-of-type {\n",
              "        vertical-align: middle;\n",
              "    }\n",
              "\n",
              "    .dataframe tbody tr th {\n",
              "        vertical-align: top;\n",
              "    }\n",
              "\n",
              "    .dataframe thead th {\n",
              "        text-align: right;\n",
              "    }\n",
              "</style>\n",
              "<table border=\"1\" class=\"dataframe\">\n",
              "  <thead>\n",
              "    <tr style=\"text-align: right;\">\n",
              "      <th></th>\n",
              "      <th>Province/State</th>\n",
              "      <th>Country/Region</th>\n",
              "      <th>Lat</th>\n",
              "      <th>Long</th>\n",
              "      <th>1/22/20</th>\n",
              "      <th>1/23/20</th>\n",
              "      <th>1/24/20</th>\n",
              "      <th>1/25/20</th>\n",
              "      <th>1/26/20</th>\n",
              "      <th>1/27/20</th>\n",
              "      <th>...</th>\n",
              "      <th>5/20/21</th>\n",
              "      <th>5/21/21</th>\n",
              "      <th>5/22/21</th>\n",
              "      <th>5/23/21</th>\n",
              "      <th>5/24/21</th>\n",
              "      <th>5/25/21</th>\n",
              "      <th>5/26/21</th>\n",
              "      <th>5/27/21</th>\n",
              "      <th>5/28/21</th>\n",
              "      <th>5/29/21</th>\n",
              "    </tr>\n",
              "  </thead>\n",
              "  <tbody>\n",
              "    <tr>\n",
              "      <th>0</th>\n",
              "      <td>NaN</td>\n",
              "      <td>Afghanistan</td>\n",
              "      <td>33.93911</td>\n",
              "      <td>67.709953</td>\n",
              "      <td>0</td>\n",
              "      <td>0</td>\n",
              "      <td>0</td>\n",
              "      <td>0</td>\n",
              "      <td>0</td>\n",
              "      <td>0</td>\n",
              "      <td>...</td>\n",
              "      <td>2772</td>\n",
              "      <td>2782</td>\n",
              "      <td>2792</td>\n",
              "      <td>2802</td>\n",
              "      <td>2812</td>\n",
              "      <td>2836</td>\n",
              "      <td>2855</td>\n",
              "      <td>2869</td>\n",
              "      <td>2881</td>\n",
              "      <td>2899</td>\n",
              "    </tr>\n",
              "    <tr>\n",
              "      <th>1</th>\n",
              "      <td>NaN</td>\n",
              "      <td>Albania</td>\n",
              "      <td>41.15330</td>\n",
              "      <td>20.168300</td>\n",
              "      <td>0</td>\n",
              "      <td>0</td>\n",
              "      <td>0</td>\n",
              "      <td>0</td>\n",
              "      <td>0</td>\n",
              "      <td>0</td>\n",
              "      <td>...</td>\n",
              "      <td>2440</td>\n",
              "      <td>2441</td>\n",
              "      <td>2442</td>\n",
              "      <td>2444</td>\n",
              "      <td>2445</td>\n",
              "      <td>2447</td>\n",
              "      <td>2447</td>\n",
              "      <td>2447</td>\n",
              "      <td>2448</td>\n",
              "      <td>2449</td>\n",
              "    </tr>\n",
              "    <tr>\n",
              "      <th>2</th>\n",
              "      <td>NaN</td>\n",
              "      <td>Algeria</td>\n",
              "      <td>28.03390</td>\n",
              "      <td>1.659600</td>\n",
              "      <td>0</td>\n",
              "      <td>0</td>\n",
              "      <td>0</td>\n",
              "      <td>0</td>\n",
              "      <td>0</td>\n",
              "      <td>0</td>\n",
              "      <td>...</td>\n",
              "      <td>3401</td>\n",
              "      <td>3405</td>\n",
              "      <td>3411</td>\n",
              "      <td>3418</td>\n",
              "      <td>3426</td>\n",
              "      <td>3433</td>\n",
              "      <td>3440</td>\n",
              "      <td>3448</td>\n",
              "      <td>3455</td>\n",
              "      <td>3460</td>\n",
              "    </tr>\n",
              "    <tr>\n",
              "      <th>3</th>\n",
              "      <td>NaN</td>\n",
              "      <td>Andorra</td>\n",
              "      <td>42.50630</td>\n",
              "      <td>1.521800</td>\n",
              "      <td>0</td>\n",
              "      <td>0</td>\n",
              "      <td>0</td>\n",
              "      <td>0</td>\n",
              "      <td>0</td>\n",
              "      <td>0</td>\n",
              "      <td>...</td>\n",
              "      <td>127</td>\n",
              "      <td>127</td>\n",
              "      <td>127</td>\n",
              "      <td>127</td>\n",
              "      <td>127</td>\n",
              "      <td>127</td>\n",
              "      <td>127</td>\n",
              "      <td>127</td>\n",
              "      <td>127</td>\n",
              "      <td>127</td>\n",
              "    </tr>\n",
              "    <tr>\n",
              "      <th>4</th>\n",
              "      <td>NaN</td>\n",
              "      <td>Angola</td>\n",
              "      <td>-11.20270</td>\n",
              "      <td>17.873900</td>\n",
              "      <td>0</td>\n",
              "      <td>0</td>\n",
              "      <td>0</td>\n",
              "      <td>0</td>\n",
              "      <td>0</td>\n",
              "      <td>0</td>\n",
              "      <td>...</td>\n",
              "      <td>704</td>\n",
              "      <td>709</td>\n",
              "      <td>715</td>\n",
              "      <td>725</td>\n",
              "      <td>731</td>\n",
              "      <td>735</td>\n",
              "      <td>742</td>\n",
              "      <td>745</td>\n",
              "      <td>749</td>\n",
              "      <td>757</td>\n",
              "    </tr>\n",
              "  </tbody>\n",
              "</table>\n",
              "<p>5 rows × 498 columns</p>\n",
              "</div>\n",
              "    <div class=\"colab-df-buttons\">\n",
              "\n",
              "  <div class=\"colab-df-container\">\n",
              "    <button class=\"colab-df-convert\" onclick=\"convertToInteractive('df-91cf40f3-3b73-40a4-8dca-2807ff50a555')\"\n",
              "            title=\"Convert this dataframe to an interactive table.\"\n",
              "            style=\"display:none;\">\n",
              "\n",
              "  <svg xmlns=\"http://www.w3.org/2000/svg\" height=\"24px\" viewBox=\"0 -960 960 960\">\n",
              "    <path d=\"M120-120v-720h720v720H120Zm60-500h600v-160H180v160Zm220 220h160v-160H400v160Zm0 220h160v-160H400v160ZM180-400h160v-160H180v160Zm440 0h160v-160H620v160ZM180-180h160v-160H180v160Zm440 0h160v-160H620v160Z\"/>\n",
              "  </svg>\n",
              "    </button>\n",
              "\n",
              "  <style>\n",
              "    .colab-df-container {\n",
              "      display:flex;\n",
              "      gap: 12px;\n",
              "    }\n",
              "\n",
              "    .colab-df-convert {\n",
              "      background-color: #E8F0FE;\n",
              "      border: none;\n",
              "      border-radius: 50%;\n",
              "      cursor: pointer;\n",
              "      display: none;\n",
              "      fill: #1967D2;\n",
              "      height: 32px;\n",
              "      padding: 0 0 0 0;\n",
              "      width: 32px;\n",
              "    }\n",
              "\n",
              "    .colab-df-convert:hover {\n",
              "      background-color: #E2EBFA;\n",
              "      box-shadow: 0px 1px 2px rgba(60, 64, 67, 0.3), 0px 1px 3px 1px rgba(60, 64, 67, 0.15);\n",
              "      fill: #174EA6;\n",
              "    }\n",
              "\n",
              "    .colab-df-buttons div {\n",
              "      margin-bottom: 4px;\n",
              "    }\n",
              "\n",
              "    [theme=dark] .colab-df-convert {\n",
              "      background-color: #3B4455;\n",
              "      fill: #D2E3FC;\n",
              "    }\n",
              "\n",
              "    [theme=dark] .colab-df-convert:hover {\n",
              "      background-color: #434B5C;\n",
              "      box-shadow: 0px 1px 3px 1px rgba(0, 0, 0, 0.15);\n",
              "      filter: drop-shadow(0px 1px 2px rgba(0, 0, 0, 0.3));\n",
              "      fill: #FFFFFF;\n",
              "    }\n",
              "  </style>\n",
              "\n",
              "    <script>\n",
              "      const buttonEl =\n",
              "        document.querySelector('#df-91cf40f3-3b73-40a4-8dca-2807ff50a555 button.colab-df-convert');\n",
              "      buttonEl.style.display =\n",
              "        google.colab.kernel.accessAllowed ? 'block' : 'none';\n",
              "\n",
              "      async function convertToInteractive(key) {\n",
              "        const element = document.querySelector('#df-91cf40f3-3b73-40a4-8dca-2807ff50a555');\n",
              "        const dataTable =\n",
              "          await google.colab.kernel.invokeFunction('convertToInteractive',\n",
              "                                                    [key], {});\n",
              "        if (!dataTable) return;\n",
              "\n",
              "        const docLinkHtml = 'Like what you see? Visit the ' +\n",
              "          '<a target=\"_blank\" href=https://colab.research.google.com/notebooks/data_table.ipynb>data table notebook</a>'\n",
              "          + ' to learn more about interactive tables.';\n",
              "        element.innerHTML = '';\n",
              "        dataTable['output_type'] = 'display_data';\n",
              "        await google.colab.output.renderOutput(dataTable, element);\n",
              "        const docLink = document.createElement('div');\n",
              "        docLink.innerHTML = docLinkHtml;\n",
              "        element.appendChild(docLink);\n",
              "      }\n",
              "    </script>\n",
              "  </div>\n",
              "\n",
              "\n",
              "<div id=\"df-8fb13f0e-9906-4b31-ba1c-e6850dbccaeb\">\n",
              "  <button class=\"colab-df-quickchart\" onclick=\"quickchart('df-8fb13f0e-9906-4b31-ba1c-e6850dbccaeb')\"\n",
              "            title=\"Suggest charts\"\n",
              "            style=\"display:none;\">\n",
              "\n",
              "<svg xmlns=\"http://www.w3.org/2000/svg\" height=\"24px\"viewBox=\"0 0 24 24\"\n",
              "     width=\"24px\">\n",
              "    <g>\n",
              "        <path d=\"M19 3H5c-1.1 0-2 .9-2 2v14c0 1.1.9 2 2 2h14c1.1 0 2-.9 2-2V5c0-1.1-.9-2-2-2zM9 17H7v-7h2v7zm4 0h-2V7h2v10zm4 0h-2v-4h2v4z\"/>\n",
              "    </g>\n",
              "</svg>\n",
              "  </button>\n",
              "\n",
              "<style>\n",
              "  .colab-df-quickchart {\n",
              "      --bg-color: #E8F0FE;\n",
              "      --fill-color: #1967D2;\n",
              "      --hover-bg-color: #E2EBFA;\n",
              "      --hover-fill-color: #174EA6;\n",
              "      --disabled-fill-color: #AAA;\n",
              "      --disabled-bg-color: #DDD;\n",
              "  }\n",
              "\n",
              "  [theme=dark] .colab-df-quickchart {\n",
              "      --bg-color: #3B4455;\n",
              "      --fill-color: #D2E3FC;\n",
              "      --hover-bg-color: #434B5C;\n",
              "      --hover-fill-color: #FFFFFF;\n",
              "      --disabled-bg-color: #3B4455;\n",
              "      --disabled-fill-color: #666;\n",
              "  }\n",
              "\n",
              "  .colab-df-quickchart {\n",
              "    background-color: var(--bg-color);\n",
              "    border: none;\n",
              "    border-radius: 50%;\n",
              "    cursor: pointer;\n",
              "    display: none;\n",
              "    fill: var(--fill-color);\n",
              "    height: 32px;\n",
              "    padding: 0;\n",
              "    width: 32px;\n",
              "  }\n",
              "\n",
              "  .colab-df-quickchart:hover {\n",
              "    background-color: var(--hover-bg-color);\n",
              "    box-shadow: 0 1px 2px rgba(60, 64, 67, 0.3), 0 1px 3px 1px rgba(60, 64, 67, 0.15);\n",
              "    fill: var(--button-hover-fill-color);\n",
              "  }\n",
              "\n",
              "  .colab-df-quickchart-complete:disabled,\n",
              "  .colab-df-quickchart-complete:disabled:hover {\n",
              "    background-color: var(--disabled-bg-color);\n",
              "    fill: var(--disabled-fill-color);\n",
              "    box-shadow: none;\n",
              "  }\n",
              "\n",
              "  .colab-df-spinner {\n",
              "    border: 2px solid var(--fill-color);\n",
              "    border-color: transparent;\n",
              "    border-bottom-color: var(--fill-color);\n",
              "    animation:\n",
              "      spin 1s steps(1) infinite;\n",
              "  }\n",
              "\n",
              "  @keyframes spin {\n",
              "    0% {\n",
              "      border-color: transparent;\n",
              "      border-bottom-color: var(--fill-color);\n",
              "      border-left-color: var(--fill-color);\n",
              "    }\n",
              "    20% {\n",
              "      border-color: transparent;\n",
              "      border-left-color: var(--fill-color);\n",
              "      border-top-color: var(--fill-color);\n",
              "    }\n",
              "    30% {\n",
              "      border-color: transparent;\n",
              "      border-left-color: var(--fill-color);\n",
              "      border-top-color: var(--fill-color);\n",
              "      border-right-color: var(--fill-color);\n",
              "    }\n",
              "    40% {\n",
              "      border-color: transparent;\n",
              "      border-right-color: var(--fill-color);\n",
              "      border-top-color: var(--fill-color);\n",
              "    }\n",
              "    60% {\n",
              "      border-color: transparent;\n",
              "      border-right-color: var(--fill-color);\n",
              "    }\n",
              "    80% {\n",
              "      border-color: transparent;\n",
              "      border-right-color: var(--fill-color);\n",
              "      border-bottom-color: var(--fill-color);\n",
              "    }\n",
              "    90% {\n",
              "      border-color: transparent;\n",
              "      border-bottom-color: var(--fill-color);\n",
              "    }\n",
              "  }\n",
              "</style>\n",
              "\n",
              "  <script>\n",
              "    async function quickchart(key) {\n",
              "      const quickchartButtonEl =\n",
              "        document.querySelector('#' + key + ' button');\n",
              "      quickchartButtonEl.disabled = true;  // To prevent multiple clicks.\n",
              "      quickchartButtonEl.classList.add('colab-df-spinner');\n",
              "      try {\n",
              "        const charts = await google.colab.kernel.invokeFunction(\n",
              "            'suggestCharts', [key], {});\n",
              "      } catch (error) {\n",
              "        console.error('Error during call to suggestCharts:', error);\n",
              "      }\n",
              "      quickchartButtonEl.classList.remove('colab-df-spinner');\n",
              "      quickchartButtonEl.classList.add('colab-df-quickchart-complete');\n",
              "    }\n",
              "    (() => {\n",
              "      let quickchartButtonEl =\n",
              "        document.querySelector('#df-8fb13f0e-9906-4b31-ba1c-e6850dbccaeb button');\n",
              "      quickchartButtonEl.style.display =\n",
              "        google.colab.kernel.accessAllowed ? 'block' : 'none';\n",
              "    })();\n",
              "  </script>\n",
              "</div>\n",
              "\n",
              "    </div>\n",
              "  </div>\n"
            ],
            "application/vnd.google.colaboratory.intrinsic+json": {
              "type": "dataframe",
              "variable_name": "deaths_data"
            }
          },
          "metadata": {},
          "execution_count": 28
        }
      ]
    },
    {
      "cell_type": "code",
      "source": [
        "recovered_data.head()"
      ],
      "metadata": {
        "colab": {
          "base_uri": "https://localhost:8080/",
          "height": 236
        },
        "id": "p3bnXP3GzXm0",
        "outputId": "05047416-ce14-40c2-e011-e5742824a1c1"
      },
      "execution_count": 29,
      "outputs": [
        {
          "output_type": "execute_result",
          "data": {
            "text/plain": [
              "  Province/State Country/Region       Lat       Long  1/22/20  1/23/20  \\\n",
              "0            NaN    Afghanistan  33.93911  67.709953        0        0   \n",
              "1            NaN        Albania  41.15330  20.168300        0        0   \n",
              "2            NaN        Algeria  28.03390   1.659600        0        0   \n",
              "3            NaN        Andorra  42.50630   1.521800        0        0   \n",
              "4            NaN         Angola -11.20270  17.873900        0        0   \n",
              "\n",
              "   1/24/20  1/25/20  1/26/20  1/27/20  ...  5/20/21  5/21/21  5/22/21  \\\n",
              "0        0        0        0        0  ...    55687    55790    55889   \n",
              "1        0        0        0        0  ...   127869   128425   128601   \n",
              "2        0        0        0        0  ...    87902    88066    88208   \n",
              "3        0        0        0        0  ...    13234    13234    13234   \n",
              "4        0        0        0        0  ...    26483    26513    26775   \n",
              "\n",
              "   5/23/21  5/24/21  5/25/21  5/26/21  5/27/21  5/28/21  5/29/21  \n",
              "0    56035    56295    56518    56711    56962    57119    57281  \n",
              "1   128732   128826   128907   128978   129042   129097   129215  \n",
              "2    88346    88497    88672    88861    89040    89232    89419  \n",
              "3    13234    13234    13263    13381    13405    13416    13416  \n",
              "4    26778    27087    27204    27467    27529    27577    27646  \n",
              "\n",
              "[5 rows x 498 columns]"
            ],
            "text/html": [
              "\n",
              "  <div id=\"df-c1c7dca5-18fd-4b5c-8ef4-fff1795d4e11\" class=\"colab-df-container\">\n",
              "    <div>\n",
              "<style scoped>\n",
              "    .dataframe tbody tr th:only-of-type {\n",
              "        vertical-align: middle;\n",
              "    }\n",
              "\n",
              "    .dataframe tbody tr th {\n",
              "        vertical-align: top;\n",
              "    }\n",
              "\n",
              "    .dataframe thead th {\n",
              "        text-align: right;\n",
              "    }\n",
              "</style>\n",
              "<table border=\"1\" class=\"dataframe\">\n",
              "  <thead>\n",
              "    <tr style=\"text-align: right;\">\n",
              "      <th></th>\n",
              "      <th>Province/State</th>\n",
              "      <th>Country/Region</th>\n",
              "      <th>Lat</th>\n",
              "      <th>Long</th>\n",
              "      <th>1/22/20</th>\n",
              "      <th>1/23/20</th>\n",
              "      <th>1/24/20</th>\n",
              "      <th>1/25/20</th>\n",
              "      <th>1/26/20</th>\n",
              "      <th>1/27/20</th>\n",
              "      <th>...</th>\n",
              "      <th>5/20/21</th>\n",
              "      <th>5/21/21</th>\n",
              "      <th>5/22/21</th>\n",
              "      <th>5/23/21</th>\n",
              "      <th>5/24/21</th>\n",
              "      <th>5/25/21</th>\n",
              "      <th>5/26/21</th>\n",
              "      <th>5/27/21</th>\n",
              "      <th>5/28/21</th>\n",
              "      <th>5/29/21</th>\n",
              "    </tr>\n",
              "  </thead>\n",
              "  <tbody>\n",
              "    <tr>\n",
              "      <th>0</th>\n",
              "      <td>NaN</td>\n",
              "      <td>Afghanistan</td>\n",
              "      <td>33.93911</td>\n",
              "      <td>67.709953</td>\n",
              "      <td>0</td>\n",
              "      <td>0</td>\n",
              "      <td>0</td>\n",
              "      <td>0</td>\n",
              "      <td>0</td>\n",
              "      <td>0</td>\n",
              "      <td>...</td>\n",
              "      <td>55687</td>\n",
              "      <td>55790</td>\n",
              "      <td>55889</td>\n",
              "      <td>56035</td>\n",
              "      <td>56295</td>\n",
              "      <td>56518</td>\n",
              "      <td>56711</td>\n",
              "      <td>56962</td>\n",
              "      <td>57119</td>\n",
              "      <td>57281</td>\n",
              "    </tr>\n",
              "    <tr>\n",
              "      <th>1</th>\n",
              "      <td>NaN</td>\n",
              "      <td>Albania</td>\n",
              "      <td>41.15330</td>\n",
              "      <td>20.168300</td>\n",
              "      <td>0</td>\n",
              "      <td>0</td>\n",
              "      <td>0</td>\n",
              "      <td>0</td>\n",
              "      <td>0</td>\n",
              "      <td>0</td>\n",
              "      <td>...</td>\n",
              "      <td>127869</td>\n",
              "      <td>128425</td>\n",
              "      <td>128601</td>\n",
              "      <td>128732</td>\n",
              "      <td>128826</td>\n",
              "      <td>128907</td>\n",
              "      <td>128978</td>\n",
              "      <td>129042</td>\n",
              "      <td>129097</td>\n",
              "      <td>129215</td>\n",
              "    </tr>\n",
              "    <tr>\n",
              "      <th>2</th>\n",
              "      <td>NaN</td>\n",
              "      <td>Algeria</td>\n",
              "      <td>28.03390</td>\n",
              "      <td>1.659600</td>\n",
              "      <td>0</td>\n",
              "      <td>0</td>\n",
              "      <td>0</td>\n",
              "      <td>0</td>\n",
              "      <td>0</td>\n",
              "      <td>0</td>\n",
              "      <td>...</td>\n",
              "      <td>87902</td>\n",
              "      <td>88066</td>\n",
              "      <td>88208</td>\n",
              "      <td>88346</td>\n",
              "      <td>88497</td>\n",
              "      <td>88672</td>\n",
              "      <td>88861</td>\n",
              "      <td>89040</td>\n",
              "      <td>89232</td>\n",
              "      <td>89419</td>\n",
              "    </tr>\n",
              "    <tr>\n",
              "      <th>3</th>\n",
              "      <td>NaN</td>\n",
              "      <td>Andorra</td>\n",
              "      <td>42.50630</td>\n",
              "      <td>1.521800</td>\n",
              "      <td>0</td>\n",
              "      <td>0</td>\n",
              "      <td>0</td>\n",
              "      <td>0</td>\n",
              "      <td>0</td>\n",
              "      <td>0</td>\n",
              "      <td>...</td>\n",
              "      <td>13234</td>\n",
              "      <td>13234</td>\n",
              "      <td>13234</td>\n",
              "      <td>13234</td>\n",
              "      <td>13234</td>\n",
              "      <td>13263</td>\n",
              "      <td>13381</td>\n",
              "      <td>13405</td>\n",
              "      <td>13416</td>\n",
              "      <td>13416</td>\n",
              "    </tr>\n",
              "    <tr>\n",
              "      <th>4</th>\n",
              "      <td>NaN</td>\n",
              "      <td>Angola</td>\n",
              "      <td>-11.20270</td>\n",
              "      <td>17.873900</td>\n",
              "      <td>0</td>\n",
              "      <td>0</td>\n",
              "      <td>0</td>\n",
              "      <td>0</td>\n",
              "      <td>0</td>\n",
              "      <td>0</td>\n",
              "      <td>...</td>\n",
              "      <td>26483</td>\n",
              "      <td>26513</td>\n",
              "      <td>26775</td>\n",
              "      <td>26778</td>\n",
              "      <td>27087</td>\n",
              "      <td>27204</td>\n",
              "      <td>27467</td>\n",
              "      <td>27529</td>\n",
              "      <td>27577</td>\n",
              "      <td>27646</td>\n",
              "    </tr>\n",
              "  </tbody>\n",
              "</table>\n",
              "<p>5 rows × 498 columns</p>\n",
              "</div>\n",
              "    <div class=\"colab-df-buttons\">\n",
              "\n",
              "  <div class=\"colab-df-container\">\n",
              "    <button class=\"colab-df-convert\" onclick=\"convertToInteractive('df-c1c7dca5-18fd-4b5c-8ef4-fff1795d4e11')\"\n",
              "            title=\"Convert this dataframe to an interactive table.\"\n",
              "            style=\"display:none;\">\n",
              "\n",
              "  <svg xmlns=\"http://www.w3.org/2000/svg\" height=\"24px\" viewBox=\"0 -960 960 960\">\n",
              "    <path d=\"M120-120v-720h720v720H120Zm60-500h600v-160H180v160Zm220 220h160v-160H400v160Zm0 220h160v-160H400v160ZM180-400h160v-160H180v160Zm440 0h160v-160H620v160ZM180-180h160v-160H180v160Zm440 0h160v-160H620v160Z\"/>\n",
              "  </svg>\n",
              "    </button>\n",
              "\n",
              "  <style>\n",
              "    .colab-df-container {\n",
              "      display:flex;\n",
              "      gap: 12px;\n",
              "    }\n",
              "\n",
              "    .colab-df-convert {\n",
              "      background-color: #E8F0FE;\n",
              "      border: none;\n",
              "      border-radius: 50%;\n",
              "      cursor: pointer;\n",
              "      display: none;\n",
              "      fill: #1967D2;\n",
              "      height: 32px;\n",
              "      padding: 0 0 0 0;\n",
              "      width: 32px;\n",
              "    }\n",
              "\n",
              "    .colab-df-convert:hover {\n",
              "      background-color: #E2EBFA;\n",
              "      box-shadow: 0px 1px 2px rgba(60, 64, 67, 0.3), 0px 1px 3px 1px rgba(60, 64, 67, 0.15);\n",
              "      fill: #174EA6;\n",
              "    }\n",
              "\n",
              "    .colab-df-buttons div {\n",
              "      margin-bottom: 4px;\n",
              "    }\n",
              "\n",
              "    [theme=dark] .colab-df-convert {\n",
              "      background-color: #3B4455;\n",
              "      fill: #D2E3FC;\n",
              "    }\n",
              "\n",
              "    [theme=dark] .colab-df-convert:hover {\n",
              "      background-color: #434B5C;\n",
              "      box-shadow: 0px 1px 3px 1px rgba(0, 0, 0, 0.15);\n",
              "      filter: drop-shadow(0px 1px 2px rgba(0, 0, 0, 0.3));\n",
              "      fill: #FFFFFF;\n",
              "    }\n",
              "  </style>\n",
              "\n",
              "    <script>\n",
              "      const buttonEl =\n",
              "        document.querySelector('#df-c1c7dca5-18fd-4b5c-8ef4-fff1795d4e11 button.colab-df-convert');\n",
              "      buttonEl.style.display =\n",
              "        google.colab.kernel.accessAllowed ? 'block' : 'none';\n",
              "\n",
              "      async function convertToInteractive(key) {\n",
              "        const element = document.querySelector('#df-c1c7dca5-18fd-4b5c-8ef4-fff1795d4e11');\n",
              "        const dataTable =\n",
              "          await google.colab.kernel.invokeFunction('convertToInteractive',\n",
              "                                                    [key], {});\n",
              "        if (!dataTable) return;\n",
              "\n",
              "        const docLinkHtml = 'Like what you see? Visit the ' +\n",
              "          '<a target=\"_blank\" href=https://colab.research.google.com/notebooks/data_table.ipynb>data table notebook</a>'\n",
              "          + ' to learn more about interactive tables.';\n",
              "        element.innerHTML = '';\n",
              "        dataTable['output_type'] = 'display_data';\n",
              "        await google.colab.output.renderOutput(dataTable, element);\n",
              "        const docLink = document.createElement('div');\n",
              "        docLink.innerHTML = docLinkHtml;\n",
              "        element.appendChild(docLink);\n",
              "      }\n",
              "    </script>\n",
              "  </div>\n",
              "\n",
              "\n",
              "<div id=\"df-71deaaf9-a232-45f5-b1c8-122a4fea259d\">\n",
              "  <button class=\"colab-df-quickchart\" onclick=\"quickchart('df-71deaaf9-a232-45f5-b1c8-122a4fea259d')\"\n",
              "            title=\"Suggest charts\"\n",
              "            style=\"display:none;\">\n",
              "\n",
              "<svg xmlns=\"http://www.w3.org/2000/svg\" height=\"24px\"viewBox=\"0 0 24 24\"\n",
              "     width=\"24px\">\n",
              "    <g>\n",
              "        <path d=\"M19 3H5c-1.1 0-2 .9-2 2v14c0 1.1.9 2 2 2h14c1.1 0 2-.9 2-2V5c0-1.1-.9-2-2-2zM9 17H7v-7h2v7zm4 0h-2V7h2v10zm4 0h-2v-4h2v4z\"/>\n",
              "    </g>\n",
              "</svg>\n",
              "  </button>\n",
              "\n",
              "<style>\n",
              "  .colab-df-quickchart {\n",
              "      --bg-color: #E8F0FE;\n",
              "      --fill-color: #1967D2;\n",
              "      --hover-bg-color: #E2EBFA;\n",
              "      --hover-fill-color: #174EA6;\n",
              "      --disabled-fill-color: #AAA;\n",
              "      --disabled-bg-color: #DDD;\n",
              "  }\n",
              "\n",
              "  [theme=dark] .colab-df-quickchart {\n",
              "      --bg-color: #3B4455;\n",
              "      --fill-color: #D2E3FC;\n",
              "      --hover-bg-color: #434B5C;\n",
              "      --hover-fill-color: #FFFFFF;\n",
              "      --disabled-bg-color: #3B4455;\n",
              "      --disabled-fill-color: #666;\n",
              "  }\n",
              "\n",
              "  .colab-df-quickchart {\n",
              "    background-color: var(--bg-color);\n",
              "    border: none;\n",
              "    border-radius: 50%;\n",
              "    cursor: pointer;\n",
              "    display: none;\n",
              "    fill: var(--fill-color);\n",
              "    height: 32px;\n",
              "    padding: 0;\n",
              "    width: 32px;\n",
              "  }\n",
              "\n",
              "  .colab-df-quickchart:hover {\n",
              "    background-color: var(--hover-bg-color);\n",
              "    box-shadow: 0 1px 2px rgba(60, 64, 67, 0.3), 0 1px 3px 1px rgba(60, 64, 67, 0.15);\n",
              "    fill: var(--button-hover-fill-color);\n",
              "  }\n",
              "\n",
              "  .colab-df-quickchart-complete:disabled,\n",
              "  .colab-df-quickchart-complete:disabled:hover {\n",
              "    background-color: var(--disabled-bg-color);\n",
              "    fill: var(--disabled-fill-color);\n",
              "    box-shadow: none;\n",
              "  }\n",
              "\n",
              "  .colab-df-spinner {\n",
              "    border: 2px solid var(--fill-color);\n",
              "    border-color: transparent;\n",
              "    border-bottom-color: var(--fill-color);\n",
              "    animation:\n",
              "      spin 1s steps(1) infinite;\n",
              "  }\n",
              "\n",
              "  @keyframes spin {\n",
              "    0% {\n",
              "      border-color: transparent;\n",
              "      border-bottom-color: var(--fill-color);\n",
              "      border-left-color: var(--fill-color);\n",
              "    }\n",
              "    20% {\n",
              "      border-color: transparent;\n",
              "      border-left-color: var(--fill-color);\n",
              "      border-top-color: var(--fill-color);\n",
              "    }\n",
              "    30% {\n",
              "      border-color: transparent;\n",
              "      border-left-color: var(--fill-color);\n",
              "      border-top-color: var(--fill-color);\n",
              "      border-right-color: var(--fill-color);\n",
              "    }\n",
              "    40% {\n",
              "      border-color: transparent;\n",
              "      border-right-color: var(--fill-color);\n",
              "      border-top-color: var(--fill-color);\n",
              "    }\n",
              "    60% {\n",
              "      border-color: transparent;\n",
              "      border-right-color: var(--fill-color);\n",
              "    }\n",
              "    80% {\n",
              "      border-color: transparent;\n",
              "      border-right-color: var(--fill-color);\n",
              "      border-bottom-color: var(--fill-color);\n",
              "    }\n",
              "    90% {\n",
              "      border-color: transparent;\n",
              "      border-bottom-color: var(--fill-color);\n",
              "    }\n",
              "  }\n",
              "</style>\n",
              "\n",
              "  <script>\n",
              "    async function quickchart(key) {\n",
              "      const quickchartButtonEl =\n",
              "        document.querySelector('#' + key + ' button');\n",
              "      quickchartButtonEl.disabled = true;  // To prevent multiple clicks.\n",
              "      quickchartButtonEl.classList.add('colab-df-spinner');\n",
              "      try {\n",
              "        const charts = await google.colab.kernel.invokeFunction(\n",
              "            'suggestCharts', [key], {});\n",
              "      } catch (error) {\n",
              "        console.error('Error during call to suggestCharts:', error);\n",
              "      }\n",
              "      quickchartButtonEl.classList.remove('colab-df-spinner');\n",
              "      quickchartButtonEl.classList.add('colab-df-quickchart-complete');\n",
              "    }\n",
              "    (() => {\n",
              "      let quickchartButtonEl =\n",
              "        document.querySelector('#df-71deaaf9-a232-45f5-b1c8-122a4fea259d button');\n",
              "      quickchartButtonEl.style.display =\n",
              "        google.colab.kernel.accessAllowed ? 'block' : 'none';\n",
              "    })();\n",
              "  </script>\n",
              "</div>\n",
              "\n",
              "    </div>\n",
              "  </div>\n"
            ],
            "application/vnd.google.colaboratory.intrinsic+json": {
              "type": "dataframe",
              "variable_name": "recovered_data"
            }
          },
          "metadata": {},
          "execution_count": 29
        }
      ]
    },
    {
      "cell_type": "markdown",
      "source": [
        "#**Question 2: Data Exploration**"
      ],
      "metadata": {
        "id": "ZA9amhK125Ig"
      }
    },
    {
      "cell_type": "markdown",
      "source": [
        "##**Q2.1: After loading the datasets, what is the structure of each dataset in terms of rows, columns, and data types?**"
      ],
      "metadata": {
        "id": "OE4rTt_929CQ"
      }
    },
    {
      "cell_type": "code",
      "source": [
        "confirmed_data.shape"
      ],
      "metadata": {
        "colab": {
          "base_uri": "https://localhost:8080/"
        },
        "id": "daccxlC6z65U",
        "outputId": "efdde080-fce1-4f6e-ac2f-6099f1ad8e7c"
      },
      "execution_count": 30,
      "outputs": [
        {
          "output_type": "execute_result",
          "data": {
            "text/plain": [
              "(276, 498)"
            ]
          },
          "metadata": {},
          "execution_count": 30
        }
      ]
    },
    {
      "cell_type": "code",
      "source": [
        "print(confirmed_data.dtypes)"
      ],
      "metadata": {
        "colab": {
          "base_uri": "https://localhost:8080/"
        },
        "id": "YOgdMHYx3SAg",
        "outputId": "d45cf040-0cba-49f9-8a49-4681af613c2d"
      },
      "execution_count": 36,
      "outputs": [
        {
          "output_type": "stream",
          "name": "stdout",
          "text": [
            "Province/State     object\n",
            "Country/Region     object\n",
            "Lat               float64\n",
            "Long              float64\n",
            "1/22/20             int64\n",
            "                   ...   \n",
            "5/25/21             int64\n",
            "5/26/21             int64\n",
            "5/27/21             int64\n",
            "5/28/21             int64\n",
            "5/29/21             int64\n",
            "Length: 498, dtype: object\n"
          ]
        }
      ]
    },
    {
      "cell_type": "code",
      "source": [
        "confirmed_data.dtypes.value_counts()"
      ],
      "metadata": {
        "colab": {
          "base_uri": "https://localhost:8080/",
          "height": 178
        },
        "id": "oJS54XSN0EzT",
        "outputId": "3cd1d08f-84b0-4774-9486-9fd73ac00365"
      },
      "execution_count": 31,
      "outputs": [
        {
          "output_type": "execute_result",
          "data": {
            "text/plain": [
              "int64      494\n",
              "object       2\n",
              "float64      2\n",
              "Name: count, dtype: int64"
            ],
            "text/html": [
              "<div>\n",
              "<style scoped>\n",
              "    .dataframe tbody tr th:only-of-type {\n",
              "        vertical-align: middle;\n",
              "    }\n",
              "\n",
              "    .dataframe tbody tr th {\n",
              "        vertical-align: top;\n",
              "    }\n",
              "\n",
              "    .dataframe thead th {\n",
              "        text-align: right;\n",
              "    }\n",
              "</style>\n",
              "<table border=\"1\" class=\"dataframe\">\n",
              "  <thead>\n",
              "    <tr style=\"text-align: right;\">\n",
              "      <th></th>\n",
              "      <th>count</th>\n",
              "    </tr>\n",
              "  </thead>\n",
              "  <tbody>\n",
              "    <tr>\n",
              "      <th>int64</th>\n",
              "      <td>494</td>\n",
              "    </tr>\n",
              "    <tr>\n",
              "      <th>object</th>\n",
              "      <td>2</td>\n",
              "    </tr>\n",
              "    <tr>\n",
              "      <th>float64</th>\n",
              "      <td>2</td>\n",
              "    </tr>\n",
              "  </tbody>\n",
              "</table>\n",
              "</div><br><label><b>dtype:</b> int64</label>"
            ]
          },
          "metadata": {},
          "execution_count": 31
        }
      ]
    },
    {
      "cell_type": "code",
      "source": [
        "deaths_data.shape"
      ],
      "metadata": {
        "colab": {
          "base_uri": "https://localhost:8080/"
        },
        "id": "iuoDF8Plz9x2",
        "outputId": "b25fe43a-ad9a-465d-bc0f-e32b3c8c21d3"
      },
      "execution_count": 32,
      "outputs": [
        {
          "output_type": "execute_result",
          "data": {
            "text/plain": [
              "(276, 498)"
            ]
          },
          "metadata": {},
          "execution_count": 32
        }
      ]
    },
    {
      "cell_type": "code",
      "source": [
        "print(deaths_data.dtypes)"
      ],
      "metadata": {
        "colab": {
          "base_uri": "https://localhost:8080/"
        },
        "id": "g0VERIku3YMw",
        "outputId": "461c3f16-f090-4610-b9b5-125f33f55859"
      },
      "execution_count": 37,
      "outputs": [
        {
          "output_type": "stream",
          "name": "stdout",
          "text": [
            "Province/State     object\n",
            "Country/Region     object\n",
            "Lat               float64\n",
            "Long              float64\n",
            "1/22/20             int64\n",
            "                   ...   \n",
            "5/25/21             int64\n",
            "5/26/21             int64\n",
            "5/27/21             int64\n",
            "5/28/21             int64\n",
            "5/29/21             int64\n",
            "Length: 498, dtype: object\n"
          ]
        }
      ]
    },
    {
      "cell_type": "code",
      "source": [
        "deaths_data.dtypes.value_counts()"
      ],
      "metadata": {
        "colab": {
          "base_uri": "https://localhost:8080/",
          "height": 178
        },
        "id": "V1iZ2OW-1YED",
        "outputId": "59cac3d3-c432-4138-f856-1d43a7fa6916"
      },
      "execution_count": 33,
      "outputs": [
        {
          "output_type": "execute_result",
          "data": {
            "text/plain": [
              "int64      493\n",
              "float64      3\n",
              "object       2\n",
              "Name: count, dtype: int64"
            ],
            "text/html": [
              "<div>\n",
              "<style scoped>\n",
              "    .dataframe tbody tr th:only-of-type {\n",
              "        vertical-align: middle;\n",
              "    }\n",
              "\n",
              "    .dataframe tbody tr th {\n",
              "        vertical-align: top;\n",
              "    }\n",
              "\n",
              "    .dataframe thead th {\n",
              "        text-align: right;\n",
              "    }\n",
              "</style>\n",
              "<table border=\"1\" class=\"dataframe\">\n",
              "  <thead>\n",
              "    <tr style=\"text-align: right;\">\n",
              "      <th></th>\n",
              "      <th>count</th>\n",
              "    </tr>\n",
              "  </thead>\n",
              "  <tbody>\n",
              "    <tr>\n",
              "      <th>int64</th>\n",
              "      <td>493</td>\n",
              "    </tr>\n",
              "    <tr>\n",
              "      <th>float64</th>\n",
              "      <td>3</td>\n",
              "    </tr>\n",
              "    <tr>\n",
              "      <th>object</th>\n",
              "      <td>2</td>\n",
              "    </tr>\n",
              "  </tbody>\n",
              "</table>\n",
              "</div><br><label><b>dtype:</b> int64</label>"
            ]
          },
          "metadata": {},
          "execution_count": 33
        }
      ]
    },
    {
      "cell_type": "code",
      "source": [
        "recovered_data.shape"
      ],
      "metadata": {
        "colab": {
          "base_uri": "https://localhost:8080/"
        },
        "id": "GXE9_nkr0Cuj",
        "outputId": "f2c5af2a-9605-4aca-cd56-6495fbf105ef"
      },
      "execution_count": 34,
      "outputs": [
        {
          "output_type": "execute_result",
          "data": {
            "text/plain": [
              "(261, 498)"
            ]
          },
          "metadata": {},
          "execution_count": 34
        }
      ]
    },
    {
      "cell_type": "code",
      "source": [
        "print(recovered_data.dtypes)"
      ],
      "metadata": {
        "colab": {
          "base_uri": "https://localhost:8080/"
        },
        "id": "dzEOTae_3dQg",
        "outputId": "0fecd53d-0c7a-4169-f31e-46c2650845ed"
      },
      "execution_count": 38,
      "outputs": [
        {
          "output_type": "stream",
          "name": "stdout",
          "text": [
            "Province/State     object\n",
            "Country/Region     object\n",
            "Lat               float64\n",
            "Long              float64\n",
            "1/22/20             int64\n",
            "                   ...   \n",
            "5/25/21             int64\n",
            "5/26/21             int64\n",
            "5/27/21             int64\n",
            "5/28/21             int64\n",
            "5/29/21             int64\n",
            "Length: 498, dtype: object\n"
          ]
        }
      ]
    },
    {
      "cell_type": "code",
      "source": [
        "recovered_data.dtypes.value_counts()"
      ],
      "metadata": {
        "colab": {
          "base_uri": "https://localhost:8080/",
          "height": 178
        },
        "id": "XrndfLvo0QoJ",
        "outputId": "5318ab81-3d3c-499a-dedc-270768cf2a4d"
      },
      "execution_count": 35,
      "outputs": [
        {
          "output_type": "execute_result",
          "data": {
            "text/plain": [
              "int64      493\n",
              "float64      3\n",
              "object       2\n",
              "Name: count, dtype: int64"
            ],
            "text/html": [
              "<div>\n",
              "<style scoped>\n",
              "    .dataframe tbody tr th:only-of-type {\n",
              "        vertical-align: middle;\n",
              "    }\n",
              "\n",
              "    .dataframe tbody tr th {\n",
              "        vertical-align: top;\n",
              "    }\n",
              "\n",
              "    .dataframe thead th {\n",
              "        text-align: right;\n",
              "    }\n",
              "</style>\n",
              "<table border=\"1\" class=\"dataframe\">\n",
              "  <thead>\n",
              "    <tr style=\"text-align: right;\">\n",
              "      <th></th>\n",
              "      <th>count</th>\n",
              "    </tr>\n",
              "  </thead>\n",
              "  <tbody>\n",
              "    <tr>\n",
              "      <th>int64</th>\n",
              "      <td>493</td>\n",
              "    </tr>\n",
              "    <tr>\n",
              "      <th>float64</th>\n",
              "      <td>3</td>\n",
              "    </tr>\n",
              "    <tr>\n",
              "      <th>object</th>\n",
              "      <td>2</td>\n",
              "    </tr>\n",
              "  </tbody>\n",
              "</table>\n",
              "</div><br><label><b>dtype:</b> int64</label>"
            ]
          },
          "metadata": {},
          "execution_count": 35
        }
      ]
    },
    {
      "cell_type": "markdown",
      "source": [
        "##**Q2.2: Generate plots of confirmed cases over time for the top countries.**"
      ],
      "metadata": {
        "id": "qWB0GuIJ6gt-"
      }
    },
    {
      "cell_type": "code",
      "source": [
        "last_date = confirmed_data.columns[-1]\n",
        "print(\"Last date in this dataset is:\", last_date)"
      ],
      "metadata": {
        "colab": {
          "base_uri": "https://localhost:8080/"
        },
        "id": "jMiBBHq91l9D",
        "outputId": "965eef19-1b4f-4442-9fb7-fe76c1328655"
      },
      "execution_count": 39,
      "outputs": [
        {
          "output_type": "stream",
          "name": "stdout",
          "text": [
            "Last date in this dataset is: 5/29/21\n"
          ]
        }
      ]
    },
    {
      "cell_type": "code",
      "source": [
        "total_country = confirmed_data.groupby('Country/Region')[last_date].sum()\n",
        "total_country"
      ],
      "metadata": {
        "colab": {
          "base_uri": "https://localhost:8080/",
          "height": 490
        },
        "id": "hpbzvOt_61rl",
        "outputId": "e9af534a-0765-4adf-f6d8-4b9e99ea3817"
      },
      "execution_count": 41,
      "outputs": [
        {
          "output_type": "execute_result",
          "data": {
            "text/plain": [
              "Country/Region\n",
              "Afghanistan            70111\n",
              "Albania               132297\n",
              "Algeria               128456\n",
              "Andorra                13693\n",
              "Angola                 34180\n",
              "                       ...  \n",
              "Vietnam                 6908\n",
              "West Bank and Gaza    307838\n",
              "Yemen                   6731\n",
              "Zambia                 94751\n",
              "Zimbabwe               38933\n",
              "Name: 5/29/21, Length: 193, dtype: int64"
            ],
            "text/html": [
              "<div>\n",
              "<style scoped>\n",
              "    .dataframe tbody tr th:only-of-type {\n",
              "        vertical-align: middle;\n",
              "    }\n",
              "\n",
              "    .dataframe tbody tr th {\n",
              "        vertical-align: top;\n",
              "    }\n",
              "\n",
              "    .dataframe thead th {\n",
              "        text-align: right;\n",
              "    }\n",
              "</style>\n",
              "<table border=\"1\" class=\"dataframe\">\n",
              "  <thead>\n",
              "    <tr style=\"text-align: right;\">\n",
              "      <th></th>\n",
              "      <th>5/29/21</th>\n",
              "    </tr>\n",
              "    <tr>\n",
              "      <th>Country/Region</th>\n",
              "      <th></th>\n",
              "    </tr>\n",
              "  </thead>\n",
              "  <tbody>\n",
              "    <tr>\n",
              "      <th>Afghanistan</th>\n",
              "      <td>70111</td>\n",
              "    </tr>\n",
              "    <tr>\n",
              "      <th>Albania</th>\n",
              "      <td>132297</td>\n",
              "    </tr>\n",
              "    <tr>\n",
              "      <th>Algeria</th>\n",
              "      <td>128456</td>\n",
              "    </tr>\n",
              "    <tr>\n",
              "      <th>Andorra</th>\n",
              "      <td>13693</td>\n",
              "    </tr>\n",
              "    <tr>\n",
              "      <th>Angola</th>\n",
              "      <td>34180</td>\n",
              "    </tr>\n",
              "    <tr>\n",
              "      <th>...</th>\n",
              "      <td>...</td>\n",
              "    </tr>\n",
              "    <tr>\n",
              "      <th>Vietnam</th>\n",
              "      <td>6908</td>\n",
              "    </tr>\n",
              "    <tr>\n",
              "      <th>West Bank and Gaza</th>\n",
              "      <td>307838</td>\n",
              "    </tr>\n",
              "    <tr>\n",
              "      <th>Yemen</th>\n",
              "      <td>6731</td>\n",
              "    </tr>\n",
              "    <tr>\n",
              "      <th>Zambia</th>\n",
              "      <td>94751</td>\n",
              "    </tr>\n",
              "    <tr>\n",
              "      <th>Zimbabwe</th>\n",
              "      <td>38933</td>\n",
              "    </tr>\n",
              "  </tbody>\n",
              "</table>\n",
              "<p>193 rows × 1 columns</p>\n",
              "</div><br><label><b>dtype:</b> int64</label>"
            ]
          },
          "metadata": {},
          "execution_count": 41
        }
      ]
    },
    {
      "cell_type": "code",
      "source": [
        "top_n = 5\n",
        "top_countries = total_country.sort_values(ascending=False).head(top_n).index.tolist()\n",
        "print(\"Top 5 countries by total confirmed cases on\", last_date, \":\\n\", top_countries)"
      ],
      "metadata": {
        "colab": {
          "base_uri": "https://localhost:8080/"
        },
        "id": "Kf4U-u6K7RvF",
        "outputId": "cdbca526-84ea-45da-e22f-95af30ba3947"
      },
      "execution_count": 42,
      "outputs": [
        {
          "output_type": "stream",
          "name": "stdout",
          "text": [
            "Top 5 countries by total confirmed cases on 5/29/21 :\n",
            " ['US', 'India', 'Brazil', 'France', 'Turkey']\n"
          ]
        }
      ]
    },
    {
      "cell_type": "code",
      "source": [
        "import matplotlib.pyplot as plt\n",
        "\n",
        "date_cols = confirmed_data.columns[4:]\n",
        "\n",
        "dates = pd.to_datetime(date_cols, format='%m/%d/%y')\n",
        "\n",
        "for country in top_countries:\n",
        "\n",
        "    subset = confirmed_data[confirmed_data['Country/Region'] == country]\n",
        "    timeseries = subset[date_cols].sum(axis=0)  # this is a “sum across provinces” for each column\n",
        "\n",
        "    # 3.3.2 Plot\n",
        "    plt.figure(figsize=(8, 4))\n",
        "    plt.plot(dates, timeseries.values, lw=2, color='tab:orange')\n",
        "    plt.title(f\"Cumulative Confirmed Cases Over Time:\\n{country}\")\n",
        "    plt.xlabel(\"Date\")\n",
        "    plt.ylabel(\"Confirmed (cumulative)\")\n",
        "    plt.xticks(rotation=45)\n",
        "    plt.tight_layout()\n",
        "    plt.show()"
      ],
      "metadata": {
        "colab": {
          "base_uri": "https://localhost:8080/",
          "height": 1000
        },
        "id": "b1Q9Hs6P7ev7",
        "outputId": "5fa0ea7a-ae93-42e6-9479-d9c90b46b38f"
      },
      "execution_count": 43,
      "outputs": [
        {
          "output_type": "display_data",
          "data": {
            "text/plain": [
              "<Figure size 800x400 with 1 Axes>"
            ],
            "image/png": "[encoded data removed]"
          },
          "metadata": {}
        },
        {
          "output_type": "display_data",
          "data": {
            "text/plain": [
              "<Figure size 800x400 with 1 Axes>"
            ],
            "image/png": "[encoded data removed]"
          },
          "metadata": {}
        },
        {
          "output_type": "display_data",
          "data": {
            "text/plain": [
              "<Figure size 800x400 with 1 Axes>"
            ],
            "image/png": "[encoded data removed]"
          },
          "metadata": {}
        },
        {
          "output_type": "display_data",
          "data": {
            "text/plain": [
              "<Figure size 800x400 with 1 Axes>"
            ],
            "image/png": "[encoded data removed]"
          },
          "metadata": {}
        },
        {
          "output_type": "display_data",
          "data": {
            "text/plain": [
              "<Figure size 800x400 with 1 Axes>"
            ],
            "image/png": "[encoded data removed]"
          },
          "metadata": {}
        }
      ]
    },
    {
      "cell_type": "markdown",
      "source": [
        "##**Q2.3: Generate plots of confirmed cases over time for China.**"
      ],
      "metadata": {
        "id": "k601dhSqPPFJ"
      }
    },
    {
      "cell_type": "code",
      "source": [
        "china_df = confirmed_data[confirmed_data['Country/Region'] == 'China']\n",
        "\n",
        "china_series = china_df[date_cols].sum(axis=0)\n",
        "\n",
        "# 6. Plot the time series\n",
        "plt.figure(figsize=(10, 5))\n",
        "plt.plot(dates, china_series.values, color='tab:blue', lw=2)\n",
        "plt.title(\"Cumulative Confirmed COVID-19 Cases in China\", pad=12)\n",
        "plt.xlabel(\"Date\", labelpad=8)\n",
        "plt.ylabel(\"Confirmed (Cumulative)\", labelpad=8)\n",
        "plt.xticks(rotation=45, ha='right')\n",
        "plt.grid(linestyle='--', alpha=0.3)\n",
        "plt.tight_layout()\n",
        "plt.show()"
      ],
      "metadata": {
        "colab": {
          "base_uri": "https://localhost:8080/",
          "height": 507
        },
        "id": "mRpC5Gjk8kUD",
        "outputId": "b3677c26-795f-4abd-92ae-df4df00ade40"
      },
      "execution_count": 44,
      "outputs": [
        {
          "output_type": "display_data",
          "data": {
            "text/plain": [
              "<Figure size 1000x500 with 1 Axes>"
            ],
            "image/png": "[encoded data removed]"
          },
          "metadata": {}
        }
      ]
    },
    {
      "cell_type": "markdown",
      "source": [
        "#**Question 3: Handling Missing Data**"
      ],
      "metadata": {
        "id": "vxcpnvcD8-6r"
      }
    },
    {
      "cell_type": "markdown",
      "source": [
        "##**Q3.1: Identify these missing values and replace them using a suitable imputation method, such as forward filling, for time-series data.**"
      ],
      "metadata": {
        "id": "oQlB1hq49iLC"
      }
    },
    {
      "cell_type": "code",
      "source": [
        "missing_per_columns = confirmed_data.isnull().sum()\n",
        "missing_per_columns"
      ],
      "metadata": {
        "colab": {
          "base_uri": "https://localhost:8080/",
          "height": 458
        },
        "id": "qaRHhWb79B3i",
        "outputId": "e9392c63-eede-428c-bb07-d93ddfd99b46"
      },
      "execution_count": 46,
      "outputs": [
        {
          "output_type": "execute_result",
          "data": {
            "text/plain": [
              "Province/State    190\n",
              "Country/Region      0\n",
              "Lat                 2\n",
              "Long                2\n",
              "1/22/20             0\n",
              "                 ... \n",
              "5/25/21             0\n",
              "5/26/21             0\n",
              "5/27/21             0\n",
              "5/28/21             0\n",
              "5/29/21             0\n",
              "Length: 498, dtype: int64"
            ],
            "text/html": [
              "<div>\n",
              "<style scoped>\n",
              "    .dataframe tbody tr th:only-of-type {\n",
              "        vertical-align: middle;\n",
              "    }\n",
              "\n",
              "    .dataframe tbody tr th {\n",
              "        vertical-align: top;\n",
              "    }\n",
              "\n",
              "    .dataframe thead th {\n",
              "        text-align: right;\n",
              "    }\n",
              "</style>\n",
              "<table border=\"1\" class=\"dataframe\">\n",
              "  <thead>\n",
              "    <tr style=\"text-align: right;\">\n",
              "      <th></th>\n",
              "      <th>0</th>\n",
              "    </tr>\n",
              "  </thead>\n",
              "  <tbody>\n",
              "    <tr>\n",
              "      <th>Province/State</th>\n",
              "      <td>190</td>\n",
              "    </tr>\n",
              "    <tr>\n",
              "      <th>Country/Region</th>\n",
              "      <td>0</td>\n",
              "    </tr>\n",
              "    <tr>\n",
              "      <th>Lat</th>\n",
              "      <td>2</td>\n",
              "    </tr>\n",
              "    <tr>\n",
              "      <th>Long</th>\n",
              "      <td>2</td>\n",
              "    </tr>\n",
              "    <tr>\n",
              "      <th>1/22/20</th>\n",
              "      <td>0</td>\n",
              "    </tr>\n",
              "    <tr>\n",
              "      <th>...</th>\n",
              "      <td>...</td>\n",
              "    </tr>\n",
              "    <tr>\n",
              "      <th>5/25/21</th>\n",
              "      <td>0</td>\n",
              "    </tr>\n",
              "    <tr>\n",
              "      <th>5/26/21</th>\n",
              "      <td>0</td>\n",
              "    </tr>\n",
              "    <tr>\n",
              "      <th>5/27/21</th>\n",
              "      <td>0</td>\n",
              "    </tr>\n",
              "    <tr>\n",
              "      <th>5/28/21</th>\n",
              "      <td>0</td>\n",
              "    </tr>\n",
              "    <tr>\n",
              "      <th>5/29/21</th>\n",
              "      <td>0</td>\n",
              "    </tr>\n",
              "  </tbody>\n",
              "</table>\n",
              "<p>498 rows × 1 columns</p>\n",
              "</div><br><label><b>dtype:</b> int64</label>"
            ]
          },
          "metadata": {},
          "execution_count": 46
        }
      ]
    },
    {
      "cell_type": "code",
      "source": [
        "date_cols = confirmed_data.columns[4:]"
      ],
      "metadata": {
        "id": "eKTgKnPo_IPy"
      },
      "execution_count": 47,
      "outputs": []
    },
    {
      "cell_type": "code",
      "source": [
        "missing_per_date = confirmed_data[date_cols].isnull().sum()\n",
        "print(\"Missing values per date column (before):\")\n",
        "print(missing_per_date[missing_per_date > 0])"
      ],
      "metadata": {
        "colab": {
          "base_uri": "https://localhost:8080/"
        },
        "id": "trMZOhyt_1pB",
        "outputId": "64ca247f-22b5-427e-8429-fc01f14227a6"
      },
      "execution_count": 48,
      "outputs": [
        {
          "output_type": "stream",
          "name": "stdout",
          "text": [
            "Missing values per date column (before):\n",
            "Series([], dtype: int64)\n"
          ]
        }
      ]
    },
    {
      "cell_type": "markdown",
      "source": [
        "No missing values found under the date columns"
      ],
      "metadata": {
        "id": "IlDH0HX6BzfG"
      }
    },
    {
      "cell_type": "code",
      "source": [
        "missing_per_columns = deaths_data.isnull().sum()\n",
        "missing_per_columns"
      ],
      "metadata": {
        "colab": {
          "base_uri": "https://localhost:8080/",
          "height": 458
        },
        "id": "xd4r5ej1_82p",
        "outputId": "fb1235af-b8bf-438d-a990-b12f8f3e15f4"
      },
      "execution_count": 49,
      "outputs": [
        {
          "output_type": "execute_result",
          "data": {
            "text/plain": [
              "Province/State    190\n",
              "Country/Region      0\n",
              "Lat                 2\n",
              "Long                2\n",
              "1/22/20             0\n",
              "                 ... \n",
              "5/25/21             0\n",
              "5/26/21             0\n",
              "5/27/21             0\n",
              "5/28/21             0\n",
              "5/29/21             0\n",
              "Length: 498, dtype: int64"
            ],
            "text/html": [
              "<div>\n",
              "<style scoped>\n",
              "    .dataframe tbody tr th:only-of-type {\n",
              "        vertical-align: middle;\n",
              "    }\n",
              "\n",
              "    .dataframe tbody tr th {\n",
              "        vertical-align: top;\n",
              "    }\n",
              "\n",
              "    .dataframe thead th {\n",
              "        text-align: right;\n",
              "    }\n",
              "</style>\n",
              "<table border=\"1\" class=\"dataframe\">\n",
              "  <thead>\n",
              "    <tr style=\"text-align: right;\">\n",
              "      <th></th>\n",
              "      <th>0</th>\n",
              "    </tr>\n",
              "  </thead>\n",
              "  <tbody>\n",
              "    <tr>\n",
              "      <th>Province/State</th>\n",
              "      <td>190</td>\n",
              "    </tr>\n",
              "    <tr>\n",
              "      <th>Country/Region</th>\n",
              "      <td>0</td>\n",
              "    </tr>\n",
              "    <tr>\n",
              "      <th>Lat</th>\n",
              "      <td>2</td>\n",
              "    </tr>\n",
              "    <tr>\n",
              "      <th>Long</th>\n",
              "      <td>2</td>\n",
              "    </tr>\n",
              "    <tr>\n",
              "      <th>1/22/20</th>\n",
              "      <td>0</td>\n",
              "    </tr>\n",
              "    <tr>\n",
              "      <th>...</th>\n",
              "      <td>...</td>\n",
              "    </tr>\n",
              "    <tr>\n",
              "      <th>5/25/21</th>\n",
              "      <td>0</td>\n",
              "    </tr>\n",
              "    <tr>\n",
              "      <th>5/26/21</th>\n",
              "      <td>0</td>\n",
              "    </tr>\n",
              "    <tr>\n",
              "      <th>5/27/21</th>\n",
              "      <td>0</td>\n",
              "    </tr>\n",
              "    <tr>\n",
              "      <th>5/28/21</th>\n",
              "      <td>0</td>\n",
              "    </tr>\n",
              "    <tr>\n",
              "      <th>5/29/21</th>\n",
              "      <td>0</td>\n",
              "    </tr>\n",
              "  </tbody>\n",
              "</table>\n",
              "<p>498 rows × 1 columns</p>\n",
              "</div><br><label><b>dtype:</b> int64</label>"
            ]
          },
          "metadata": {},
          "execution_count": 49
        }
      ]
    },
    {
      "cell_type": "code",
      "source": [
        "missing_per_date = deaths_data[date_cols].isnull().sum()\n",
        "print(\"Missing values per date column (before):\")\n",
        "print(missing_per_date[missing_per_date > 0])"
      ],
      "metadata": {
        "colab": {
          "base_uri": "https://localhost:8080/"
        },
        "id": "XC5ZO9pvAhhg",
        "outputId": "94e8d0e6-3aec-408c-c8c7-99bc10552548"
      },
      "execution_count": 50,
      "outputs": [
        {
          "output_type": "stream",
          "name": "stdout",
          "text": [
            "Missing values per date column (before):\n",
            "4/20/20    1\n",
            "dtype: int64\n"
          ]
        }
      ]
    },
    {
      "cell_type": "markdown",
      "source": [
        "1 missing value found"
      ],
      "metadata": {
        "id": "88hVBvzWB9PP"
      }
    },
    {
      "cell_type": "code",
      "source": [
        "deaths_data[date_cols] = deaths_data[date_cols].ffill(axis=1)"
      ],
      "metadata": {
        "id": "DhKzzLEeAmMX"
      },
      "execution_count": 51,
      "outputs": []
    },
    {
      "cell_type": "code",
      "source": [
        "total_missing_after = deaths_data[date_cols].isnull().sum().sum()\n",
        "print(\"\\nTotal missing values in date columns (after):\", total_missing_after)"
      ],
      "metadata": {
        "colab": {
          "base_uri": "https://localhost:8080/"
        },
        "id": "WYXgQFXWAyDu",
        "outputId": "9acd9539-62da-4c89-bf84-4fc6405f4bcb"
      },
      "execution_count": 52,
      "outputs": [
        {
          "output_type": "stream",
          "name": "stdout",
          "text": [
            "\n",
            "Total missing values in date columns (after): 0\n"
          ]
        }
      ]
    },
    {
      "cell_type": "code",
      "source": [
        "missing_per_columns = recovered_data.isnull().sum()\n",
        "missing_per_columns"
      ],
      "metadata": {
        "colab": {
          "base_uri": "https://localhost:8080/",
          "height": 458
        },
        "id": "wCmFs01RBHAf",
        "outputId": "5ba57bd3-b9e7-46b3-aad1-d31ae780861a"
      },
      "execution_count": 53,
      "outputs": [
        {
          "output_type": "execute_result",
          "data": {
            "text/plain": [
              "Province/State    191\n",
              "Country/Region      0\n",
              "Lat                 1\n",
              "Long                1\n",
              "1/22/20             0\n",
              "                 ... \n",
              "5/25/21             0\n",
              "5/26/21             0\n",
              "5/27/21             0\n",
              "5/28/21             0\n",
              "5/29/21             0\n",
              "Length: 498, dtype: int64"
            ],
            "text/html": [
              "<div>\n",
              "<style scoped>\n",
              "    .dataframe tbody tr th:only-of-type {\n",
              "        vertical-align: middle;\n",
              "    }\n",
              "\n",
              "    .dataframe tbody tr th {\n",
              "        vertical-align: top;\n",
              "    }\n",
              "\n",
              "    .dataframe thead th {\n",
              "        text-align: right;\n",
              "    }\n",
              "</style>\n",
              "<table border=\"1\" class=\"dataframe\">\n",
              "  <thead>\n",
              "    <tr style=\"text-align: right;\">\n",
              "      <th></th>\n",
              "      <th>0</th>\n",
              "    </tr>\n",
              "  </thead>\n",
              "  <tbody>\n",
              "    <tr>\n",
              "      <th>Province/State</th>\n",
              "      <td>191</td>\n",
              "    </tr>\n",
              "    <tr>\n",
              "      <th>Country/Region</th>\n",
              "      <td>0</td>\n",
              "    </tr>\n",
              "    <tr>\n",
              "      <th>Lat</th>\n",
              "      <td>1</td>\n",
              "    </tr>\n",
              "    <tr>\n",
              "      <th>Long</th>\n",
              "      <td>1</td>\n",
              "    </tr>\n",
              "    <tr>\n",
              "      <th>1/22/20</th>\n",
              "      <td>0</td>\n",
              "    </tr>\n",
              "    <tr>\n",
              "      <th>...</th>\n",
              "      <td>...</td>\n",
              "    </tr>\n",
              "    <tr>\n",
              "      <th>5/25/21</th>\n",
              "      <td>0</td>\n",
              "    </tr>\n",
              "    <tr>\n",
              "      <th>5/26/21</th>\n",
              "      <td>0</td>\n",
              "    </tr>\n",
              "    <tr>\n",
              "      <th>5/27/21</th>\n",
              "      <td>0</td>\n",
              "    </tr>\n",
              "    <tr>\n",
              "      <th>5/28/21</th>\n",
              "      <td>0</td>\n",
              "    </tr>\n",
              "    <tr>\n",
              "      <th>5/29/21</th>\n",
              "      <td>0</td>\n",
              "    </tr>\n",
              "  </tbody>\n",
              "</table>\n",
              "<p>498 rows × 1 columns</p>\n",
              "</div><br><label><b>dtype:</b> int64</label>"
            ]
          },
          "metadata": {},
          "execution_count": 53
        }
      ]
    },
    {
      "cell_type": "code",
      "source": [
        "missing_per_date = recovered_data[date_cols].isnull().sum()\n",
        "print(\"Missing values per date column (before):\")\n",
        "print(missing_per_date[missing_per_date > 0])"
      ],
      "metadata": {
        "colab": {
          "base_uri": "https://localhost:8080/"
        },
        "id": "-sZ6tuwxBPX_",
        "outputId": "31d260fa-c257-4e3e-e442-2e511ca6efbe"
      },
      "execution_count": 54,
      "outputs": [
        {
          "output_type": "stream",
          "name": "stdout",
          "text": [
            "Missing values per date column (before):\n",
            "4/20/20    1\n",
            "dtype: int64\n"
          ]
        }
      ]
    },
    {
      "cell_type": "markdown",
      "source": [
        "1 missing value found"
      ],
      "metadata": {
        "id": "w3RheXXDCBKG"
      }
    },
    {
      "cell_type": "code",
      "source": [
        "recovered_data[date_cols] = recovered_data[date_cols].ffill(axis=1)"
      ],
      "metadata": {
        "id": "_digFiyvBWm3"
      },
      "execution_count": 55,
      "outputs": []
    },
    {
      "cell_type": "code",
      "source": [
        "total_missing_after = recovered_data[date_cols].isnull().sum().sum()\n",
        "print(\"\\nTotal missing values in date columns (after):\", total_missing_after)"
      ],
      "metadata": {
        "colab": {
          "base_uri": "https://localhost:8080/"
        },
        "id": "tYBFHP6dBgs-",
        "outputId": "e4789181-85bb-4ab6-bdc0-0c7e6149ed71"
      },
      "execution_count": 56,
      "outputs": [
        {
          "output_type": "stream",
          "name": "stdout",
          "text": [
            "\n",
            "Total missing values in date columns (after): 0\n"
          ]
        }
      ]
    },
    {
      "cell_type": "markdown",
      "source": [
        "#**Question 4: Data Cleaning and Preparation**"
      ],
      "metadata": {
        "id": "cVncWpNsCFC2"
      }
    },
    {
      "cell_type": "markdown",
      "source": [
        "##**Q4.1: Replace blank values in the province column with “All Provinces.”**"
      ],
      "metadata": {
        "id": "r9wbd_euCMll"
      }
    },
    {
      "cell_type": "code",
      "source": [
        "# Replacing NaN values in 'Province/State' with \"All Provinces\"\n",
        "confirmed_data['Province/State'] = confirmed_data['Province/State'].fillna('All Provinces')"
      ],
      "metadata": {
        "id": "Q74adSlvCLgt"
      },
      "execution_count": 57,
      "outputs": []
    },
    {
      "cell_type": "code",
      "source": [
        "# If there are any truly empty strings (''), replacing those too\n",
        "confirmed_data['Province/State'] = confirmed_data['Province/State'].replace('', 'All Provinces')"
      ],
      "metadata": {
        "id": "CldtvIcYCh0U"
      },
      "execution_count": 58,
      "outputs": []
    },
    {
      "cell_type": "code",
      "source": [
        "print(confirmed_data['Province/State'].isnull().sum(), \"missing entries remain\")\n",
        "print((confirmed_data['Province/State'] == '').sum(), \"empty‐string entries remain\")"
      ],
      "metadata": {
        "colab": {
          "base_uri": "https://localhost:8080/"
        },
        "id": "nNqiYgM4CrHC",
        "outputId": "f658df59-eaa8-4039-b425-62417319f143"
      },
      "execution_count": 59,
      "outputs": [
        {
          "output_type": "stream",
          "name": "stdout",
          "text": [
            "0 missing entries remain\n",
            "0 empty‐string entries remain\n"
          ]
        }
      ]
    },
    {
      "cell_type": "code",
      "source": [
        "confirmed_data['Province/State'].head(20)"
      ],
      "metadata": {
        "colab": {
          "base_uri": "https://localhost:8080/",
          "height": 711
        },
        "id": "VRD3CUfWCynB",
        "outputId": "d2caf105-ef04-4d64-88cc-23e6814db2fe"
      },
      "execution_count": 61,
      "outputs": [
        {
          "output_type": "execute_result",
          "data": {
            "text/plain": [
              "0                    All Provinces\n",
              "1                    All Provinces\n",
              "2                    All Provinces\n",
              "3                    All Provinces\n",
              "4                    All Provinces\n",
              "5                    All Provinces\n",
              "6                    All Provinces\n",
              "7                    All Provinces\n",
              "8     Australian Capital Territory\n",
              "9                  New South Wales\n",
              "10              Northern Territory\n",
              "11                      Queensland\n",
              "12                 South Australia\n",
              "13                        Tasmania\n",
              "14                        Victoria\n",
              "15               Western Australia\n",
              "16                   All Provinces\n",
              "17                   All Provinces\n",
              "18                   All Provinces\n",
              "19                   All Provinces\n",
              "Name: Province/State, dtype: object"
            ],
            "text/html": [
              "<div>\n",
              "<style scoped>\n",
              "    .dataframe tbody tr th:only-of-type {\n",
              "        vertical-align: middle;\n",
              "    }\n",
              "\n",
              "    .dataframe tbody tr th {\n",
              "        vertical-align: top;\n",
              "    }\n",
              "\n",
              "    .dataframe thead th {\n",
              "        text-align: right;\n",
              "    }\n",
              "</style>\n",
              "<table border=\"1\" class=\"dataframe\">\n",
              "  <thead>\n",
              "    <tr style=\"text-align: right;\">\n",
              "      <th></th>\n",
              "      <th>Province/State</th>\n",
              "    </tr>\n",
              "  </thead>\n",
              "  <tbody>\n",
              "    <tr>\n",
              "      <th>0</th>\n",
              "      <td>All Provinces</td>\n",
              "    </tr>\n",
              "    <tr>\n",
              "      <th>1</th>\n",
              "      <td>All Provinces</td>\n",
              "    </tr>\n",
              "    <tr>\n",
              "      <th>2</th>\n",
              "      <td>All Provinces</td>\n",
              "    </tr>\n",
              "    <tr>\n",
              "      <th>3</th>\n",
              "      <td>All Provinces</td>\n",
              "    </tr>\n",
              "    <tr>\n",
              "      <th>4</th>\n",
              "      <td>All Provinces</td>\n",
              "    </tr>\n",
              "    <tr>\n",
              "      <th>5</th>\n",
              "      <td>All Provinces</td>\n",
              "    </tr>\n",
              "    <tr>\n",
              "      <th>6</th>\n",
              "      <td>All Provinces</td>\n",
              "    </tr>\n",
              "    <tr>\n",
              "      <th>7</th>\n",
              "      <td>All Provinces</td>\n",
              "    </tr>\n",
              "    <tr>\n",
              "      <th>8</th>\n",
              "      <td>Australian Capital Territory</td>\n",
              "    </tr>\n",
              "    <tr>\n",
              "      <th>9</th>\n",
              "      <td>New South Wales</td>\n",
              "    </tr>\n",
              "    <tr>\n",
              "      <th>10</th>\n",
              "      <td>Northern Territory</td>\n",
              "    </tr>\n",
              "    <tr>\n",
              "      <th>11</th>\n",
              "      <td>Queensland</td>\n",
              "    </tr>\n",
              "    <tr>\n",
              "      <th>12</th>\n",
              "      <td>South Australia</td>\n",
              "    </tr>\n",
              "    <tr>\n",
              "      <th>13</th>\n",
              "      <td>Tasmania</td>\n",
              "    </tr>\n",
              "    <tr>\n",
              "      <th>14</th>\n",
              "      <td>Victoria</td>\n",
              "    </tr>\n",
              "    <tr>\n",
              "      <th>15</th>\n",
              "      <td>Western Australia</td>\n",
              "    </tr>\n",
              "    <tr>\n",
              "      <th>16</th>\n",
              "      <td>All Provinces</td>\n",
              "    </tr>\n",
              "    <tr>\n",
              "      <th>17</th>\n",
              "      <td>All Provinces</td>\n",
              "    </tr>\n",
              "    <tr>\n",
              "      <th>18</th>\n",
              "      <td>All Provinces</td>\n",
              "    </tr>\n",
              "    <tr>\n",
              "      <th>19</th>\n",
              "      <td>All Provinces</td>\n",
              "    </tr>\n",
              "  </tbody>\n",
              "</table>\n",
              "</div><br><label><b>dtype:</b> object</label>"
            ]
          },
          "metadata": {},
          "execution_count": 61
        }
      ]
    },
    {
      "cell_type": "code",
      "source": [
        "deaths_data['Province/State'] = deaths_data['Province/State'].fillna('All Provinces')"
      ],
      "metadata": {
        "id": "Zhxq1lO5C4cJ"
      },
      "execution_count": 62,
      "outputs": []
    },
    {
      "cell_type": "code",
      "source": [
        "deaths_data['Province/State'] = deaths_data['Province/State'].replace('', 'All Provinces')"
      ],
      "metadata": {
        "id": "C2kHdRagDCSq"
      },
      "execution_count": 63,
      "outputs": []
    },
    {
      "cell_type": "code",
      "source": [
        "print(deaths_data['Province/State'].isnull().sum(), \"missing entries remain\")\n",
        "print((deaths_data['Province/State'] == '').sum(), \"empty‐string entries remain\")"
      ],
      "metadata": {
        "colab": {
          "base_uri": "https://localhost:8080/"
        },
        "id": "EmmF1wWUDJOf",
        "outputId": "f994b028-d8b7-4ced-cf62-28b26da935c2"
      },
      "execution_count": 64,
      "outputs": [
        {
          "output_type": "stream",
          "name": "stdout",
          "text": [
            "0 missing entries remain\n",
            "0 empty‐string entries remain\n"
          ]
        }
      ]
    },
    {
      "cell_type": "code",
      "source": [
        "deaths_data['Province/State'].head(20)"
      ],
      "metadata": {
        "colab": {
          "base_uri": "https://localhost:8080/",
          "height": 711
        },
        "id": "g6-zU6V4DP1A",
        "outputId": "942d9641-150d-44c6-cfb3-cb471dcdb0ae"
      },
      "execution_count": 65,
      "outputs": [
        {
          "output_type": "execute_result",
          "data": {
            "text/plain": [
              "0                    All Provinces\n",
              "1                    All Provinces\n",
              "2                    All Provinces\n",
              "3                    All Provinces\n",
              "4                    All Provinces\n",
              "5                    All Provinces\n",
              "6                    All Provinces\n",
              "7                    All Provinces\n",
              "8     Australian Capital Territory\n",
              "9                  New South Wales\n",
              "10              Northern Territory\n",
              "11                      Queensland\n",
              "12                 South Australia\n",
              "13                        Tasmania\n",
              "14                        Victoria\n",
              "15               Western Australia\n",
              "16                   All Provinces\n",
              "17                   All Provinces\n",
              "18                   All Provinces\n",
              "19                   All Provinces\n",
              "Name: Province/State, dtype: object"
            ],
            "text/html": [
              "<div>\n",
              "<style scoped>\n",
              "    .dataframe tbody tr th:only-of-type {\n",
              "        vertical-align: middle;\n",
              "    }\n",
              "\n",
              "    .dataframe tbody tr th {\n",
              "        vertical-align: top;\n",
              "    }\n",
              "\n",
              "    .dataframe thead th {\n",
              "        text-align: right;\n",
              "    }\n",
              "</style>\n",
              "<table border=\"1\" class=\"dataframe\">\n",
              "  <thead>\n",
              "    <tr style=\"text-align: right;\">\n",
              "      <th></th>\n",
              "      <th>Province/State</th>\n",
              "    </tr>\n",
              "  </thead>\n",
              "  <tbody>\n",
              "    <tr>\n",
              "      <th>0</th>\n",
              "      <td>All Provinces</td>\n",
              "    </tr>\n",
              "    <tr>\n",
              "      <th>1</th>\n",
              "      <td>All Provinces</td>\n",
              "    </tr>\n",
              "    <tr>\n",
              "      <th>2</th>\n",
              "      <td>All Provinces</td>\n",
              "    </tr>\n",
              "    <tr>\n",
              "      <th>3</th>\n",
              "      <td>All Provinces</td>\n",
              "    </tr>\n",
              "    <tr>\n",
              "      <th>4</th>\n",
              "      <td>All Provinces</td>\n",
              "    </tr>\n",
              "    <tr>\n",
              "      <th>5</th>\n",
              "      <td>All Provinces</td>\n",
              "    </tr>\n",
              "    <tr>\n",
              "      <th>6</th>\n",
              "      <td>All Provinces</td>\n",
              "    </tr>\n",
              "    <tr>\n",
              "      <th>7</th>\n",
              "      <td>All Provinces</td>\n",
              "    </tr>\n",
              "    <tr>\n",
              "      <th>8</th>\n",
              "      <td>Australian Capital Territory</td>\n",
              "    </tr>\n",
              "    <tr>\n",
              "      <th>9</th>\n",
              "      <td>New South Wales</td>\n",
              "    </tr>\n",
              "    <tr>\n",
              "      <th>10</th>\n",
              "      <td>Northern Territory</td>\n",
              "    </tr>\n",
              "    <tr>\n",
              "      <th>11</th>\n",
              "      <td>Queensland</td>\n",
              "    </tr>\n",
              "    <tr>\n",
              "      <th>12</th>\n",
              "      <td>South Australia</td>\n",
              "    </tr>\n",
              "    <tr>\n",
              "      <th>13</th>\n",
              "      <td>Tasmania</td>\n",
              "    </tr>\n",
              "    <tr>\n",
              "      <th>14</th>\n",
              "      <td>Victoria</td>\n",
              "    </tr>\n",
              "    <tr>\n",
              "      <th>15</th>\n",
              "      <td>Western Australia</td>\n",
              "    </tr>\n",
              "    <tr>\n",
              "      <th>16</th>\n",
              "      <td>All Provinces</td>\n",
              "    </tr>\n",
              "    <tr>\n",
              "      <th>17</th>\n",
              "      <td>All Provinces</td>\n",
              "    </tr>\n",
              "    <tr>\n",
              "      <th>18</th>\n",
              "      <td>All Provinces</td>\n",
              "    </tr>\n",
              "    <tr>\n",
              "      <th>19</th>\n",
              "      <td>All Provinces</td>\n",
              "    </tr>\n",
              "  </tbody>\n",
              "</table>\n",
              "</div><br><label><b>dtype:</b> object</label>"
            ]
          },
          "metadata": {},
          "execution_count": 65
        }
      ]
    },
    {
      "cell_type": "code",
      "source": [
        "recovered_data['Province/State'] = recovered_data['Province/State'].fillna('All Provinces')"
      ],
      "metadata": {
        "id": "8xciQUhRDUPY"
      },
      "execution_count": 66,
      "outputs": []
    },
    {
      "cell_type": "code",
      "source": [
        "recovered_data['Province/State'] = recovered_data['Province/State'].replace('', 'All Provinces')"
      ],
      "metadata": {
        "id": "68nUHieYEQ_9"
      },
      "execution_count": 67,
      "outputs": []
    },
    {
      "cell_type": "code",
      "source": [
        "print(recovered_data['Province/State'].isnull().sum(), \"missing entries remain\")\n",
        "print((recovered_data['Province/State'] == '').sum(), \"empty‐string entries remain\")"
      ],
      "metadata": {
        "colab": {
          "base_uri": "https://localhost:8080/"
        },
        "id": "fpHL_8J_EXHZ",
        "outputId": "bfd65e73-8f65-4f77-99cb-60f5e8769d88"
      },
      "execution_count": 68,
      "outputs": [
        {
          "output_type": "stream",
          "name": "stdout",
          "text": [
            "0 missing entries remain\n",
            "0 empty‐string entries remain\n"
          ]
        }
      ]
    },
    {
      "cell_type": "code",
      "source": [
        "recovered_data['Province/State'].head(20)"
      ],
      "metadata": {
        "colab": {
          "base_uri": "https://localhost:8080/",
          "height": 711
        },
        "id": "jKf3nmzIEdwc",
        "outputId": "5031250b-3e44-49f7-e869-f00002a4f37a"
      },
      "execution_count": 69,
      "outputs": [
        {
          "output_type": "execute_result",
          "data": {
            "text/plain": [
              "0                    All Provinces\n",
              "1                    All Provinces\n",
              "2                    All Provinces\n",
              "3                    All Provinces\n",
              "4                    All Provinces\n",
              "5                    All Provinces\n",
              "6                    All Provinces\n",
              "7                    All Provinces\n",
              "8     Australian Capital Territory\n",
              "9                  New South Wales\n",
              "10              Northern Territory\n",
              "11                      Queensland\n",
              "12                 South Australia\n",
              "13                        Tasmania\n",
              "14                        Victoria\n",
              "15               Western Australia\n",
              "16                   All Provinces\n",
              "17                   All Provinces\n",
              "18                   All Provinces\n",
              "19                   All Provinces\n",
              "Name: Province/State, dtype: object"
            ],
            "text/html": [
              "<div>\n",
              "<style scoped>\n",
              "    .dataframe tbody tr th:only-of-type {\n",
              "        vertical-align: middle;\n",
              "    }\n",
              "\n",
              "    .dataframe tbody tr th {\n",
              "        vertical-align: top;\n",
              "    }\n",
              "\n",
              "    .dataframe thead th {\n",
              "        text-align: right;\n",
              "    }\n",
              "</style>\n",
              "<table border=\"1\" class=\"dataframe\">\n",
              "  <thead>\n",
              "    <tr style=\"text-align: right;\">\n",
              "      <th></th>\n",
              "      <th>Province/State</th>\n",
              "    </tr>\n",
              "  </thead>\n",
              "  <tbody>\n",
              "    <tr>\n",
              "      <th>0</th>\n",
              "      <td>All Provinces</td>\n",
              "    </tr>\n",
              "    <tr>\n",
              "      <th>1</th>\n",
              "      <td>All Provinces</td>\n",
              "    </tr>\n",
              "    <tr>\n",
              "      <th>2</th>\n",
              "      <td>All Provinces</td>\n",
              "    </tr>\n",
              "    <tr>\n",
              "      <th>3</th>\n",
              "      <td>All Provinces</td>\n",
              "    </tr>\n",
              "    <tr>\n",
              "      <th>4</th>\n",
              "      <td>All Provinces</td>\n",
              "    </tr>\n",
              "    <tr>\n",
              "      <th>5</th>\n",
              "      <td>All Provinces</td>\n",
              "    </tr>\n",
              "    <tr>\n",
              "      <th>6</th>\n",
              "      <td>All Provinces</td>\n",
              "    </tr>\n",
              "    <tr>\n",
              "      <th>7</th>\n",
              "      <td>All Provinces</td>\n",
              "    </tr>\n",
              "    <tr>\n",
              "      <th>8</th>\n",
              "      <td>Australian Capital Territory</td>\n",
              "    </tr>\n",
              "    <tr>\n",
              "      <th>9</th>\n",
              "      <td>New South Wales</td>\n",
              "    </tr>\n",
              "    <tr>\n",
              "      <th>10</th>\n",
              "      <td>Northern Territory</td>\n",
              "    </tr>\n",
              "    <tr>\n",
              "      <th>11</th>\n",
              "      <td>Queensland</td>\n",
              "    </tr>\n",
              "    <tr>\n",
              "      <th>12</th>\n",
              "      <td>South Australia</td>\n",
              "    </tr>\n",
              "    <tr>\n",
              "      <th>13</th>\n",
              "      <td>Tasmania</td>\n",
              "    </tr>\n",
              "    <tr>\n",
              "      <th>14</th>\n",
              "      <td>Victoria</td>\n",
              "    </tr>\n",
              "    <tr>\n",
              "      <th>15</th>\n",
              "      <td>Western Australia</td>\n",
              "    </tr>\n",
              "    <tr>\n",
              "      <th>16</th>\n",
              "      <td>All Provinces</td>\n",
              "    </tr>\n",
              "    <tr>\n",
              "      <th>17</th>\n",
              "      <td>All Provinces</td>\n",
              "    </tr>\n",
              "    <tr>\n",
              "      <th>18</th>\n",
              "      <td>All Provinces</td>\n",
              "    </tr>\n",
              "    <tr>\n",
              "      <th>19</th>\n",
              "      <td>All Provinces</td>\n",
              "    </tr>\n",
              "  </tbody>\n",
              "</table>\n",
              "</div><br><label><b>dtype:</b> object</label>"
            ]
          },
          "metadata": {},
          "execution_count": 69
        }
      ]
    },
    {
      "cell_type": "markdown",
      "source": [
        "#**Question 5: Independent Dataset Analysis**"
      ],
      "metadata": {
        "id": "KeHW-dybErnD"
      }
    },
    {
      "cell_type": "markdown",
      "source": [
        "##**Q5.1: Analyze the peak number of daily new cases in Germany, France, and Italy. Which country experienced the highest single-day surge, and when did it occur?**"
      ],
      "metadata": {
        "id": "nQHLBOOaE1Td"
      }
    },
    {
      "cell_type": "code",
      "source": [
        "date_cols = confirmed_data.columns[4:]"
      ],
      "metadata": {
        "id": "Ap8RFnUdEiTI"
      },
      "execution_count": 70,
      "outputs": []
    },
    {
      "cell_type": "code",
      "source": [
        "dates = pd.to_datetime(date_cols, format='%m/%d/%y')"
      ],
      "metadata": {
        "id": "r9tallvnFY-p"
      },
      "execution_count": 71,
      "outputs": []
    },
    {
      "cell_type": "code",
      "source": [
        "# List of countries to analyze\n",
        "countries = ['Germany', 'France', 'Italy']"
      ],
      "metadata": {
        "id": "tG6DnWoWFdQL"
      },
      "execution_count": 72,
      "outputs": []
    },
    {
      "cell_type": "code",
      "source": [
        "rows = []"
      ],
      "metadata": {
        "id": "Z_a3hFzbFf8u"
      },
      "execution_count": 73,
      "outputs": []
    },
    {
      "cell_type": "code",
      "source": [
        "for country in countries:\n",
        "    # Filter to that country and sum across all provinces\n",
        "    country_df = confirmed_data[confirmed_data['Country/Region'] == country]\n",
        "    cumulative = country_df[date_cols].sum(axis=0)   # Series indexed by string dates\n",
        "\n",
        "    # Computing daily new cases\n",
        "    new_cases = cumulative.diff().fillna(cumulative.iloc[0])\n",
        "\n",
        "    # Finding the string‐index of the peak and convert it to a real date\n",
        "    peak_idx_str = new_cases.idxmax()\n",
        "    peak_date     = pd.to_datetime(peak_idx_str, format='%m/%d/%y').date()\n",
        "    peak_val      = int(new_cases.max())\n",
        "\n",
        "\n",
        "    rows.append({\n",
        "        'Country': country,\n",
        "        'Peak Date': peak_date,\n",
        "        'Peak New Cases': peak_val\n",
        "    })"
      ],
      "metadata": {
        "id": "MSDt-3XMFyy2"
      },
      "execution_count": 75,
      "outputs": []
    },
    {
      "cell_type": "code",
      "source": [
        "# Building a dataframe of those peaks and printing it\n",
        "peaks_df = pd.DataFrame(rows).set_index('Country')\n",
        "print(peaks_df)\n",
        "\n",
        "best = peaks_df['Peak New Cases'].idxmax()\n",
        "print(f\"\\nHighest single‐day surge: {best} on {peaks_df.loc[best, 'Peak Date']} \"\n",
        "      f\"with {peaks_df.loc[best, 'Peak New Cases']} new cases.\")"
      ],
      "metadata": {
        "colab": {
          "base_uri": "https://localhost:8080/"
        },
        "id": "TTH3aJR5GooC",
        "outputId": "547a20ec-39fc-4fac-f036-0f0a711276db"
      },
      "execution_count": 76,
      "outputs": [
        {
          "output_type": "stream",
          "name": "stdout",
          "text": [
            "          Peak Date  Peak New Cases\n",
            "Country                            \n",
            "Germany  2020-12-30           49044\n",
            "France   2021-04-11          117900\n",
            "Italy    2020-11-13           40902\n",
            "\n",
            "Highest single‐day surge: France on 2021-04-11 with 117900 new cases.\n"
          ]
        }
      ]
    },
    {
      "cell_type": "markdown",
      "source": [
        "##**Q5.2: Compare the recovery rates (recoveries/confirmed cases) between Canada and Australia as of December 31, 2020. Which country showed better management of the pandemic according to this metric?**"
      ],
      "metadata": {
        "id": "pOGlMr5NHKHJ"
      }
    },
    {
      "cell_type": "code",
      "source": [
        "date_col = \"12/31/20\""
      ],
      "metadata": {
        "id": "iNK9fAMxHMO4"
      },
      "execution_count": 77,
      "outputs": []
    },
    {
      "cell_type": "code",
      "source": [
        "# Computing total confirmed cases in Canada on 12/31/20\n",
        "canada_confirmed = confirmed_data[confirmed_data['Country/Region'] == \"Canada\"][date_col].sum()"
      ],
      "metadata": {
        "id": "64cz9pgSHZzE"
      },
      "execution_count": 78,
      "outputs": []
    },
    {
      "cell_type": "code",
      "source": [
        "# Computing total recovered cases in Canada on 12/31/20\n",
        "canada_recovered = recovered_data[recovered_data['Country/Region'] == \"Canada\"][date_col].sum()"
      ],
      "metadata": {
        "id": "uwN8KaJ9HliR"
      },
      "execution_count": 79,
      "outputs": []
    },
    {
      "cell_type": "code",
      "source": [
        "# Computing recovery rate for Canada\n",
        "canada_recovery_rate = canada_recovered / canada_confirmed"
      ],
      "metadata": {
        "id": "7-wL6botHsc0"
      },
      "execution_count": 80,
      "outputs": []
    },
    {
      "cell_type": "code",
      "source": [
        "# Computing total confirmed cases in Australia on 12/31/20\n",
        "australia_confirmed = confirmed_data[confirmed_data['Country/Region'] == \"Australia\"][date_col].sum()"
      ],
      "metadata": {
        "id": "qyROtKd9HvTx"
      },
      "execution_count": 81,
      "outputs": []
    },
    {
      "cell_type": "code",
      "source": [
        "# Computing total recovered cases in Australia on 12/31/20\n",
        "australia_recovered = recovered_data[recovered_data['Country/Region'] == \"Australia\"][date_col].sum()"
      ],
      "metadata": {
        "id": "zmCVg6-cH2x6"
      },
      "execution_count": 82,
      "outputs": []
    },
    {
      "cell_type": "code",
      "source": [
        "# Compute recovery rate for Australia\n",
        "australia_recovery_rate = australia_recovered / australia_confirmed"
      ],
      "metadata": {
        "id": "qp-m3Kb-H-AP"
      },
      "execution_count": 83,
      "outputs": []
    },
    {
      "cell_type": "code",
      "source": [
        "print(f\"Canada on {date_col}:\")\n",
        "print(f\"  Confirmed cases: {canada_confirmed}\")\n",
        "print(f\"  Recovered cases: {canada_recovered}\")\n",
        "print(f\"  Recovery rate:  {canada_recovery_rate:.2%}\\n\")"
      ],
      "metadata": {
        "colab": {
          "base_uri": "https://localhost:8080/"
        },
        "id": "n5TdgMPtIAzU",
        "outputId": "e6fe78e6-d355-4209-a933-7cb99472e709"
      },
      "execution_count": 84,
      "outputs": [
        {
          "output_type": "stream",
          "name": "stdout",
          "text": [
            "Canada on 12/31/20:\n",
            "  Confirmed cases: 584409\n",
            "  Recovered cases: 493638.0\n",
            "  Recovery rate:  84.47%\n",
            "\n"
          ]
        }
      ]
    },
    {
      "cell_type": "code",
      "source": [
        "print(f\"Australia on {date_col}:\")\n",
        "print(f\"  Confirmed cases: {australia_confirmed}\")\n",
        "print(f\"  Recovered cases: {australia_recovered}\")\n",
        "print(f\"  Recovery rate:  {australia_recovery_rate:.2%}\\n\")"
      ],
      "metadata": {
        "colab": {
          "base_uri": "https://localhost:8080/"
        },
        "id": "vpqbb25MIEDu",
        "outputId": "bf862aaa-e6f1-4bf9-ce39-22b0e78b507e"
      },
      "execution_count": 85,
      "outputs": [
        {
          "output_type": "stream",
          "name": "stdout",
          "text": [
            "Australia on 12/31/20:\n",
            "  Confirmed cases: 28425\n",
            "  Recovered cases: 22565.0\n",
            "  Recovery rate:  79.38%\n",
            "\n"
          ]
        }
      ]
    },
    {
      "cell_type": "code",
      "source": [
        "if canada_recovery_rate > australia_recovery_rate:\n",
        "    print(\"As of December 31, 2020, Canada had the higher recovery rate.\")\n",
        "elif australia_recovery_rate > canada_recovery_rate:\n",
        "    print(\"As of December 31, 2020, Australia had the higher recovery rate.\")\n",
        "else:\n",
        "    print(\"As of December 31, 2020, both Canada and Australia had identical recovery rates.\")"
      ],
      "metadata": {
        "colab": {
          "base_uri": "https://localhost:8080/"
        },
        "id": "DjruLP3-IRk4",
        "outputId": "d0514087-c543-4c06-c8e9-3d8b4a260d24"
      },
      "execution_count": 86,
      "outputs": [
        {
          "output_type": "stream",
          "name": "stdout",
          "text": [
            "As of December 31, 2020, Canada had the higher recovery rate.\n"
          ]
        }
      ]
    },
    {
      "cell_type": "markdown",
      "source": [
        "##**Q5.3: What is the distribution of death rates (deaths/confirmed cases) among provinces in Canada? Identify the province with the highest and lowest death rate as of the latest data point.**"
      ],
      "metadata": {
        "id": "Wt0ADR3GI3KH"
      }
    },
    {
      "cell_type": "code",
      "source": [
        "# Identify the “date” columns (all columns after the first four: Province/State, Country/Region, Lat, Long)\n",
        "date_cols = confirmed_data.columns[4:]"
      ],
      "metadata": {
        "id": "VzK4rdYKI5-F"
      },
      "execution_count": 87,
      "outputs": []
    },
    {
      "cell_type": "code",
      "source": [
        "# Determining the latest date in the series\n",
        "latest_date = date_cols[-1]"
      ],
      "metadata": {
        "id": "W1mvlMhBKM8S"
      },
      "execution_count": 88,
      "outputs": []
    },
    {
      "cell_type": "code",
      "source": [
        "# Filtering both dataframes to only rows where Country/Region == \"Canada\"\n",
        "df_can_confirm = confirmed_data[confirmed_data['Country/Region'] == \"Canada\"]\n",
        "df_can_deaths = deaths_data[deaths_data['Country/Region'] == \"Canada\"]"
      ],
      "metadata": {
        "id": "yLzdENqgKWBI"
      },
      "execution_count": 89,
      "outputs": []
    },
    {
      "cell_type": "code",
      "source": [
        "# Grouping by Province/State and sum the values for the latest date. This will give a series of total confirmed cases per province\n",
        "prov_confirmed = (\n",
        "    df_can_confirm\n",
        "    .groupby('Province/State')[latest_date]\n",
        "    .sum()\n",
        ")"
      ],
      "metadata": {
        "id": "y7PLCUtxKpq6"
      },
      "execution_count": 90,
      "outputs": []
    },
    {
      "cell_type": "code",
      "source": [
        "prov_deaths = (\n",
        "    df_can_deaths\n",
        "    .groupby('Province/State')[latest_date]\n",
        "    .sum()\n",
        ")"
      ],
      "metadata": {
        "id": "VffyrTWbLCwj"
      },
      "execution_count": 91,
      "outputs": []
    },
    {
      "cell_type": "code",
      "source": [
        "# Combining into a single dataframe and computing death_rate = deaths/confirmed\n",
        "prov_df = pd.DataFrame({\n",
        "    'Confirmed': prov_confirmed,\n",
        "    'Deaths': prov_deaths\n",
        "})"
      ],
      "metadata": {
        "id": "jU8r_rgTLJHc"
      },
      "execution_count": 92,
      "outputs": []
    },
    {
      "cell_type": "code",
      "source": [
        "# If any province has zero confirmed, then avoid division by zero\n",
        "prov_df['Death Rate'] = prov_df['Deaths'] / prov_df['Confirmed'].replace(0, pd.NA)"
      ],
      "metadata": {
        "id": "dVsxPGF-LVSN"
      },
      "execution_count": 93,
      "outputs": []
    },
    {
      "cell_type": "code",
      "source": [
        "# Sorting by death rate for display\n",
        "prov_df_sorted = prov_df.sort_values('Death Rate', ascending=False)"
      ],
      "metadata": {
        "id": "saNFbMBHLj8e"
      },
      "execution_count": 94,
      "outputs": []
    },
    {
      "cell_type": "code",
      "source": [
        "# Displaying the full distribution of death rates by province\n",
        "print(\"Death Rate Distribution by Province (as of {}):\\n\".format(latest_date))\n",
        "print(prov_df_sorted[['Confirmed', 'Deaths', 'Death Rate']])"
      ],
      "metadata": {
        "colab": {
          "base_uri": "https://localhost:8080/"
        },
        "id": "sSbMR9a_LtMl",
        "outputId": "7341426e-e497-4bd2-8f8a-1af81bd6db97"
      },
      "execution_count": 95,
      "outputs": [
        {
          "output_type": "stream",
          "name": "stdout",
          "text": [
            "Death Rate Distribution by Province (as of 5/29/21):\n",
            "\n",
            "                           Confirmed   Deaths Death Rate\n",
            "Province/State                                          \n",
            "Quebec                        369728  11125.0    0.03009\n",
            "Yukon                             84      2.0    0.02381\n",
            "Manitoba                       50499   1045.0   0.020693\n",
            "New Brunswick                   2191     43.0   0.019626\n",
            "Ontario                       537138   8698.0   0.016193\n",
            "Nova Scotia                     5530     84.0    0.01519\n",
            "British Columbia              143581   1692.0   0.011784\n",
            "Saskatchewan                   46464    537.0   0.011557\n",
            "Alberta                       226855   2214.0    0.00976\n",
            "Nunavut                          648      4.0   0.006173\n",
            "Newfoundland and Labrador       1302      6.0   0.004608\n",
            "Grand Princess                    13      0.0        0.0\n",
            "Northwest Territories            127      0.0        0.0\n",
            "Prince Edward Island             200      0.0        0.0\n",
            "Repatriated Travellers            13      0.0        0.0\n",
            "Diamond Princess                   0      1.0       <NA>\n"
          ]
        }
      ]
    },
    {
      "cell_type": "code",
      "source": [
        "# Identifying the province with the highest and lowest death rate\n",
        "highest_prov = prov_df_sorted.index[0]\n",
        "highest_rate = prov_df_sorted.iloc[0]['Death Rate']"
      ],
      "metadata": {
        "id": "PlAtcgVpL1K8"
      },
      "execution_count": 96,
      "outputs": []
    },
    {
      "cell_type": "code",
      "source": [
        "# Since we sorted in descending order, the last row is the lowest\n",
        "lowest_prov = prov_df_sorted['Death Rate'].dropna().idxmin()\n",
        "lowest_rate = prov_df_sorted.loc[lowest_prov, 'Death Rate']"
      ],
      "metadata": {
        "id": "Z9WFsYIFL-xE"
      },
      "execution_count": 97,
      "outputs": []
    },
    {
      "cell_type": "code",
      "source": [
        "print(\"\\nProvince with highest death rate:\")\n",
        "print(f\"  {highest_prov}  →  Death Rate = {highest_rate:.2%}\")\n",
        "\n",
        "print(\"\\nProvince with lowest death rate:\")\n",
        "print(f\"  {lowest_prov}  →  Death Rate = {lowest_rate:.2%}\")"
      ],
      "metadata": {
        "colab": {
          "base_uri": "https://localhost:8080/"
        },
        "id": "qBZnRUVDMQc8",
        "outputId": "9c15d30e-20d8-4285-cc4d-aa07c92ba934"
      },
      "execution_count": 98,
      "outputs": [
        {
          "output_type": "stream",
          "name": "stdout",
          "text": [
            "\n",
            "Province with highest death rate:\n",
            "  Quebec  →  Death Rate = 3.01%\n",
            "\n",
            "Province with lowest death rate:\n",
            "  Grand Princess  →  Death Rate = 0.00%\n"
          ]
        }
      ]
    },
    {
      "cell_type": "markdown",
      "source": [
        "#**Question 6: Data Transformation**"
      ],
      "metadata": {
        "id": "hE1M91BuPlva"
      }
    },
    {
      "cell_type": "markdown",
      "source": [
        "##**Q6.1: Transform the 'deaths' dataset from wide format (where each column represents a date) to long format, where each row represents a single date, ensuring that the date column is in datetime format. How would this transformation be executed?**"
      ],
      "metadata": {
        "id": "KzpRwBepP3TA"
      }
    },
    {
      "cell_type": "code",
      "source": [
        "# Identifying the non-date columns (Province/State, Country/Region, Lat, Long)\n",
        "non_date_cols = ['Province/State', 'Country/Region', 'Lat', 'Long']"
      ],
      "metadata": {
        "id": "XnE33VqRPwyF"
      },
      "execution_count": 99,
      "outputs": []
    },
    {
      "cell_type": "code",
      "source": [
        "# Melt from wide format (one column per date) to long format\n",
        "deaths_data_long = deaths_data.melt(\n",
        "    id_vars=non_date_cols,\n",
        "    var_name='Date',\n",
        "    value_name='Deaths'\n",
        ")"
      ],
      "metadata": {
        "id": "OyqboZMHQYIS"
      },
      "execution_count": 100,
      "outputs": []
    },
    {
      "cell_type": "code",
      "source": [
        "# Converting the “Date” column to datetime\n",
        "deaths_data_long['Date'] = pd.to_datetime(deaths_data_long['Date'], format='%m/%d/%y')"
      ],
      "metadata": {
        "id": "ZzV_x3aeQpmJ"
      },
      "execution_count": 101,
      "outputs": []
    },
    {
      "cell_type": "code",
      "source": [
        "# Reseting index and showing the first few rows to verify\n",
        "deaths_data_long = deaths_data_long.reset_index(drop=True)\n",
        "print(deaths_data_long.head())"
      ],
      "metadata": {
        "colab": {
          "base_uri": "https://localhost:8080/"
        },
        "id": "3qkVlpbAQ0Ho",
        "outputId": "6beb3df3-13c8-40f2-8988-58d26d8bac9d"
      },
      "execution_count": 102,
      "outputs": [
        {
          "output_type": "stream",
          "name": "stdout",
          "text": [
            "  Province/State Country/Region       Lat       Long       Date  Deaths\n",
            "0  All Provinces    Afghanistan  33.93911  67.709953 2020-01-22     0.0\n",
            "1  All Provinces        Albania  41.15330  20.168300 2020-01-22     0.0\n",
            "2  All Provinces        Algeria  28.03390   1.659600 2020-01-22     0.0\n",
            "3  All Provinces        Andorra  42.50630   1.521800 2020-01-22     0.0\n",
            "4  All Provinces         Angola -11.20270  17.873900 2020-01-22     0.0\n"
          ]
        }
      ]
    },
    {
      "cell_type": "code",
      "source": [
        "deaths_data_long"
      ],
      "metadata": {
        "colab": {
          "base_uri": "https://localhost:8080/",
          "height": 424
        },
        "id": "D2j3fX4aRR5A",
        "outputId": "7b5ebc22-e0b5-4f71-bea2-8dc7d0a6052f"
      },
      "execution_count": 103,
      "outputs": [
        {
          "output_type": "execute_result",
          "data": {
            "text/plain": [
              "       Province/State      Country/Region        Lat        Long       Date  \\\n",
              "0       All Provinces         Afghanistan  33.939110   67.709953 2020-01-22   \n",
              "1       All Provinces             Albania  41.153300   20.168300 2020-01-22   \n",
              "2       All Provinces             Algeria  28.033900    1.659600 2020-01-22   \n",
              "3       All Provinces             Andorra  42.506300    1.521800 2020-01-22   \n",
              "4       All Provinces              Angola -11.202700   17.873900 2020-01-22   \n",
              "...               ...                 ...        ...         ...        ...   \n",
              "136339  All Provinces             Vietnam  14.058324  108.277199 2021-05-29   \n",
              "136340  All Provinces  West Bank and Gaza  31.952200   35.233200 2021-05-29   \n",
              "136341  All Provinces               Yemen  15.552727   48.516388 2021-05-29   \n",
              "136342  All Provinces              Zambia -13.133897   27.849332 2021-05-29   \n",
              "136343  All Provinces            Zimbabwe -19.015438   29.154857 2021-05-29   \n",
              "\n",
              "        Deaths  \n",
              "0          0.0  \n",
              "1          0.0  \n",
              "2          0.0  \n",
              "3          0.0  \n",
              "4          0.0  \n",
              "...        ...  \n",
              "136339    47.0  \n",
              "136340  3492.0  \n",
              "136341  1319.0  \n",
              "136342  1276.0  \n",
              "136343  1594.0  \n",
              "\n",
              "[136344 rows x 6 columns]"
            ],
            "text/html": [
              "\n",
              "  <div id=\"df-faddaf3e-840f-414d-aa0c-b341ecc5c8eb\" class=\"colab-df-container\">\n",
              "    <div>\n",
              "<style scoped>\n",
              "    .dataframe tbody tr th:only-of-type {\n",
              "        vertical-align: middle;\n",
              "    }\n",
              "\n",
              "    .dataframe tbody tr th {\n",
              "        vertical-align: top;\n",
              "    }\n",
              "\n",
              "    .dataframe thead th {\n",
              "        text-align: right;\n",
              "    }\n",
              "</style>\n",
              "<table border=\"1\" class=\"dataframe\">\n",
              "  <thead>\n",
              "    <tr style=\"text-align: right;\">\n",
              "      <th></th>\n",
              "      <th>Province/State</th>\n",
              "      <th>Country/Region</th>\n",
              "      <th>Lat</th>\n",
              "      <th>Long</th>\n",
              "      <th>Date</th>\n",
              "      <th>Deaths</th>\n",
              "    </tr>\n",
              "  </thead>\n",
              "  <tbody>\n",
              "    <tr>\n",
              "      <th>0</th>\n",
              "      <td>All Provinces</td>\n",
              "      <td>Afghanistan</td>\n",
              "      <td>33.939110</td>\n",
              "      <td>67.709953</td>\n",
              "      <td>2020-01-22</td>\n",
              "      <td>0.0</td>\n",
              "    </tr>\n",
              "    <tr>\n",
              "      <th>1</th>\n",
              "      <td>All Provinces</td>\n",
              "      <td>Albania</td>\n",
              "      <td>41.153300</td>\n",
              "      <td>20.168300</td>\n",
              "      <td>2020-01-22</td>\n",
              "      <td>0.0</td>\n",
              "    </tr>\n",
              "    <tr>\n",
              "      <th>2</th>\n",
              "      <td>All Provinces</td>\n",
              "      <td>Algeria</td>\n",
              "      <td>28.033900</td>\n",
              "      <td>1.659600</td>\n",
              "      <td>2020-01-22</td>\n",
              "      <td>0.0</td>\n",
              "    </tr>\n",
              "    <tr>\n",
              "      <th>3</th>\n",
              "      <td>All Provinces</td>\n",
              "      <td>Andorra</td>\n",
              "      <td>42.506300</td>\n",
              "      <td>1.521800</td>\n",
              "      <td>2020-01-22</td>\n",
              "      <td>0.0</td>\n",
              "    </tr>\n",
              "    <tr>\n",
              "      <th>4</th>\n",
              "      <td>All Provinces</td>\n",
              "      <td>Angola</td>\n",
              "      <td>-11.202700</td>\n",
              "      <td>17.873900</td>\n",
              "      <td>2020-01-22</td>\n",
              "      <td>0.0</td>\n",
              "    </tr>\n",
              "    <tr>\n",
              "      <th>...</th>\n",
              "      <td>...</td>\n",
              "      <td>...</td>\n",
              "      <td>...</td>\n",
              "      <td>...</td>\n",
              "      <td>...</td>\n",
              "      <td>...</td>\n",
              "    </tr>\n",
              "    <tr>\n",
              "      <th>136339</th>\n",
              "      <td>All Provinces</td>\n",
              "      <td>Vietnam</td>\n",
              "      <td>14.058324</td>\n",
              "      <td>108.277199</td>\n",
              "      <td>2021-05-29</td>\n",
              "      <td>47.0</td>\n",
              "    </tr>\n",
              "    <tr>\n",
              "      <th>136340</th>\n",
              "      <td>All Provinces</td>\n",
              "      <td>West Bank and Gaza</td>\n",
              "      <td>31.952200</td>\n",
              "      <td>35.233200</td>\n",
              "      <td>2021-05-29</td>\n",
              "      <td>3492.0</td>\n",
              "    </tr>\n",
              "    <tr>\n",
              "      <th>136341</th>\n",
              "      <td>All Provinces</td>\n",
              "      <td>Yemen</td>\n",
              "      <td>15.552727</td>\n",
              "      <td>48.516388</td>\n",
              "      <td>2021-05-29</td>\n",
              "      <td>1319.0</td>\n",
              "    </tr>\n",
              "    <tr>\n",
              "      <th>136342</th>\n",
              "      <td>All Provinces</td>\n",
              "      <td>Zambia</td>\n",
              "      <td>-13.133897</td>\n",
              "      <td>27.849332</td>\n",
              "      <td>2021-05-29</td>\n",
              "      <td>1276.0</td>\n",
              "    </tr>\n",
              "    <tr>\n",
              "      <th>136343</th>\n",
              "      <td>All Provinces</td>\n",
              "      <td>Zimbabwe</td>\n",
              "      <td>-19.015438</td>\n",
              "      <td>29.154857</td>\n",
              "      <td>2021-05-29</td>\n",
              "      <td>1594.0</td>\n",
              "    </tr>\n",
              "  </tbody>\n",
              "</table>\n",
              "<p>136344 rows × 6 columns</p>\n",
              "</div>\n",
              "    <div class=\"colab-df-buttons\">\n",
              "\n",
              "  <div class=\"colab-df-container\">\n",
              "    <button class=\"colab-df-convert\" onclick=\"convertToInteractive('df-faddaf3e-840f-414d-aa0c-b341ecc5c8eb')\"\n",
              "            title=\"Convert this dataframe to an interactive table.\"\n",
              "            style=\"display:none;\">\n",
              "\n",
              "  <svg xmlns=\"http://www.w3.org/2000/svg\" height=\"24px\" viewBox=\"0 -960 960 960\">\n",
              "    <path d=\"M120-120v-720h720v720H120Zm60-500h600v-160H180v160Zm220 220h160v-160H400v160Zm0 220h160v-160H400v160ZM180-400h160v-160H180v160Zm440 0h160v-160H620v160ZM180-180h160v-160H180v160Zm440 0h160v-160H620v160Z\"/>\n",
              "  </svg>\n",
              "    </button>\n",
              "\n",
              "  <style>\n",
              "    .colab-df-container {\n",
              "      display:flex;\n",
              "      gap: 12px;\n",
              "    }\n",
              "\n",
              "    .colab-df-convert {\n",
              "      background-color: #E8F0FE;\n",
              "      border: none;\n",
              "      border-radius: 50%;\n",
              "      cursor: pointer;\n",
              "      display: none;\n",
              "      fill: #1967D2;\n",
              "      height: 32px;\n",
              "      padding: 0 0 0 0;\n",
              "      width: 32px;\n",
              "    }\n",
              "\n",
              "    .colab-df-convert:hover {\n",
              "      background-color: #E2EBFA;\n",
              "      box-shadow: 0px 1px 2px rgba(60, 64, 67, 0.3), 0px 1px 3px 1px rgba(60, 64, 67, 0.15);\n",
              "      fill: #174EA6;\n",
              "    }\n",
              "\n",
              "    .colab-df-buttons div {\n",
              "      margin-bottom: 4px;\n",
              "    }\n",
              "\n",
              "    [theme=dark] .colab-df-convert {\n",
              "      background-color: #3B4455;\n",
              "      fill: #D2E3FC;\n",
              "    }\n",
              "\n",
              "    [theme=dark] .colab-df-convert:hover {\n",
              "      background-color: #434B5C;\n",
              "      box-shadow: 0px 1px 3px 1px rgba(0, 0, 0, 0.15);\n",
              "      filter: drop-shadow(0px 1px 2px rgba(0, 0, 0, 0.3));\n",
              "      fill: #FFFFFF;\n",
              "    }\n",
              "  </style>\n",
              "\n",
              "    <script>\n",
              "      const buttonEl =\n",
              "        document.querySelector('#df-faddaf3e-840f-414d-aa0c-b341ecc5c8eb button.colab-df-convert');\n",
              "      buttonEl.style.display =\n",
              "        google.colab.kernel.accessAllowed ? 'block' : 'none';\n",
              "\n",
              "      async function convertToInteractive(key) {\n",
              "        const element = document.querySelector('#df-faddaf3e-840f-414d-aa0c-b341ecc5c8eb');\n",
              "        const dataTable =\n",
              "          await google.colab.kernel.invokeFunction('convertToInteractive',\n",
              "                                                    [key], {});\n",
              "        if (!dataTable) return;\n",
              "\n",
              "        const docLinkHtml = 'Like what you see? Visit the ' +\n",
              "          '<a target=\"_blank\" href=https://colab.research.google.com/notebooks/data_table.ipynb>data table notebook</a>'\n",
              "          + ' to learn more about interactive tables.';\n",
              "        element.innerHTML = '';\n",
              "        dataTable['output_type'] = 'display_data';\n",
              "        await google.colab.output.renderOutput(dataTable, element);\n",
              "        const docLink = document.createElement('div');\n",
              "        docLink.innerHTML = docLinkHtml;\n",
              "        element.appendChild(docLink);\n",
              "      }\n",
              "    </script>\n",
              "  </div>\n",
              "\n",
              "\n",
              "<div id=\"df-31b3534e-ab58-44ba-b4a1-180108fc1840\">\n",
              "  <button class=\"colab-df-quickchart\" onclick=\"quickchart('df-31b3534e-ab58-44ba-b4a1-180108fc1840')\"\n",
              "            title=\"Suggest charts\"\n",
              "            style=\"display:none;\">\n",
              "\n",
              "<svg xmlns=\"http://www.w3.org/2000/svg\" height=\"24px\"viewBox=\"0 0 24 24\"\n",
              "     width=\"24px\">\n",
              "    <g>\n",
              "        <path d=\"M19 3H5c-1.1 0-2 .9-2 2v14c0 1.1.9 2 2 2h14c1.1 0 2-.9 2-2V5c0-1.1-.9-2-2-2zM9 17H7v-7h2v7zm4 0h-2V7h2v10zm4 0h-2v-4h2v4z\"/>\n",
              "    </g>\n",
              "</svg>\n",
              "  </button>\n",
              "\n",
              "<style>\n",
              "  .colab-df-quickchart {\n",
              "      --bg-color: #E8F0FE;\n",
              "      --fill-color: #1967D2;\n",
              "      --hover-bg-color: #E2EBFA;\n",
              "      --hover-fill-color: #174EA6;\n",
              "      --disabled-fill-color: #AAA;\n",
              "      --disabled-bg-color: #DDD;\n",
              "  }\n",
              "\n",
              "  [theme=dark] .colab-df-quickchart {\n",
              "      --bg-color: #3B4455;\n",
              "      --fill-color: #D2E3FC;\n",
              "      --hover-bg-color: #434B5C;\n",
              "      --hover-fill-color: #FFFFFF;\n",
              "      --disabled-bg-color: #3B4455;\n",
              "      --disabled-fill-color: #666;\n",
              "  }\n",
              "\n",
              "  .colab-df-quickchart {\n",
              "    background-color: var(--bg-color);\n",
              "    border: none;\n",
              "    border-radius: 50%;\n",
              "    cursor: pointer;\n",
              "    display: none;\n",
              "    fill: var(--fill-color);\n",
              "    height: 32px;\n",
              "    padding: 0;\n",
              "    width: 32px;\n",
              "  }\n",
              "\n",
              "  .colab-df-quickchart:hover {\n",
              "    background-color: var(--hover-bg-color);\n",
              "    box-shadow: 0 1px 2px rgba(60, 64, 67, 0.3), 0 1px 3px 1px rgba(60, 64, 67, 0.15);\n",
              "    fill: var(--button-hover-fill-color);\n",
              "  }\n",
              "\n",
              "  .colab-df-quickchart-complete:disabled,\n",
              "  .colab-df-quickchart-complete:disabled:hover {\n",
              "    background-color: var(--disabled-bg-color);\n",
              "    fill: var(--disabled-fill-color);\n",
              "    box-shadow: none;\n",
              "  }\n",
              "\n",
              "  .colab-df-spinner {\n",
              "    border: 2px solid var(--fill-color);\n",
              "    border-color: transparent;\n",
              "    border-bottom-color: var(--fill-color);\n",
              "    animation:\n",
              "      spin 1s steps(1) infinite;\n",
              "  }\n",
              "\n",
              "  @keyframes spin {\n",
              "    0% {\n",
              "      border-color: transparent;\n",
              "      border-bottom-color: var(--fill-color);\n",
              "      border-left-color: var(--fill-color);\n",
              "    }\n",
              "    20% {\n",
              "      border-color: transparent;\n",
              "      border-left-color: var(--fill-color);\n",
              "      border-top-color: var(--fill-color);\n",
              "    }\n",
              "    30% {\n",
              "      border-color: transparent;\n",
              "      border-left-color: var(--fill-color);\n",
              "      border-top-color: var(--fill-color);\n",
              "      border-right-color: var(--fill-color);\n",
              "    }\n",
              "    40% {\n",
              "      border-color: transparent;\n",
              "      border-right-color: var(--fill-color);\n",
              "      border-top-color: var(--fill-color);\n",
              "    }\n",
              "    60% {\n",
              "      border-color: transparent;\n",
              "      border-right-color: var(--fill-color);\n",
              "    }\n",
              "    80% {\n",
              "      border-color: transparent;\n",
              "      border-right-color: var(--fill-color);\n",
              "      border-bottom-color: var(--fill-color);\n",
              "    }\n",
              "    90% {\n",
              "      border-color: transparent;\n",
              "      border-bottom-color: var(--fill-color);\n",
              "    }\n",
              "  }\n",
              "</style>\n",
              "\n",
              "  <script>\n",
              "    async function quickchart(key) {\n",
              "      const quickchartButtonEl =\n",
              "        document.querySelector('#' + key + ' button');\n",
              "      quickchartButtonEl.disabled = true;  // To prevent multiple clicks.\n",
              "      quickchartButtonEl.classList.add('colab-df-spinner');\n",
              "      try {\n",
              "        const charts = await google.colab.kernel.invokeFunction(\n",
              "            'suggestCharts', [key], {});\n",
              "      } catch (error) {\n",
              "        console.error('Error during call to suggestCharts:', error);\n",
              "      }\n",
              "      quickchartButtonEl.classList.remove('colab-df-spinner');\n",
              "      quickchartButtonEl.classList.add('colab-df-quickchart-complete');\n",
              "    }\n",
              "    (() => {\n",
              "      let quickchartButtonEl =\n",
              "        document.querySelector('#df-31b3534e-ab58-44ba-b4a1-180108fc1840 button');\n",
              "      quickchartButtonEl.style.display =\n",
              "        google.colab.kernel.accessAllowed ? 'block' : 'none';\n",
              "    })();\n",
              "  </script>\n",
              "</div>\n",
              "\n",
              "  <div id=\"id_2cbbfca0-0226-43b9-b57c-32b1a6a0562c\">\n",
              "    <style>\n",
              "      .colab-df-generate {\n",
              "        background-color: #E8F0FE;\n",
              "        border: none;\n",
              "        border-radius: 50%;\n",
              "        cursor: pointer;\n",
              "        display: none;\n",
              "        fill: #1967D2;\n",
              "        height: 32px;\n",
              "        padding: 0 0 0 0;\n",
              "        width: 32px;\n",
              "      }\n",
              "\n",
              "      .colab-df-generate:hover {\n",
              "        background-color: #E2EBFA;\n",
              "        box-shadow: 0px 1px 2px rgba(60, 64, 67, 0.3), 0px 1px 3px 1px rgba(60, 64, 67, 0.15);\n",
              "        fill: #174EA6;\n",
              "      }\n",
              "\n",
              "      [theme=dark] .colab-df-generate {\n",
              "        background-color: #3B4455;\n",
              "        fill: #D2E3FC;\n",
              "      }\n",
              "\n",
              "      [theme=dark] .colab-df-generate:hover {\n",
              "        background-color: #434B5C;\n",
              "        box-shadow: 0px 1px 3px 1px rgba(0, 0, 0, 0.15);\n",
              "        filter: drop-shadow(0px 1px 2px rgba(0, 0, 0, 0.3));\n",
              "        fill: #FFFFFF;\n",
              "      }\n",
              "    </style>\n",
              "    <button class=\"colab-df-generate\" onclick=\"generateWithVariable('deaths_data_long')\"\n",
              "            title=\"Generate code using this dataframe.\"\n",
              "            style=\"display:none;\">\n",
              "\n",
              "  <svg xmlns=\"http://www.w3.org/2000/svg\" height=\"24px\"viewBox=\"0 0 24 24\"\n",
              "       width=\"24px\">\n",
              "    <path d=\"M7,19H8.4L18.45,9,17,7.55,7,17.6ZM5,21V16.75L18.45,3.32a2,2,0,0,1,2.83,0l1.4,1.43a1.91,1.91,0,0,1,.58,1.4,1.91,1.91,0,0,1-.58,1.4L9.25,21ZM18.45,9,17,7.55Zm-12,3A5.31,5.31,0,0,0,4.9,8.1,5.31,5.31,0,0,0,1,6.5,5.31,5.31,0,0,0,4.9,4.9,5.31,5.31,0,0,0,6.5,1,5.31,5.31,0,0,0,8.1,4.9,5.31,5.31,0,0,0,12,6.5,5.46,5.46,0,0,0,6.5,12Z\"/>\n",
              "  </svg>\n",
              "    </button>\n",
              "    <script>\n",
              "      (() => {\n",
              "      const buttonEl =\n",
              "        document.querySelector('#id_2cbbfca0-0226-43b9-b57c-32b1a6a0562c button.colab-df-generate');\n",
              "      buttonEl.style.display =\n",
              "        google.colab.kernel.accessAllowed ? 'block' : 'none';\n",
              "\n",
              "      buttonEl.onclick = () => {\n",
              "        google.colab.notebook.generateWithVariable('deaths_data_long');\n",
              "      }\n",
              "      })();\n",
              "    </script>\n",
              "  </div>\n",
              "\n",
              "    </div>\n",
              "  </div>\n"
            ],
            "application/vnd.google.colaboratory.intrinsic+json": {
              "type": "dataframe",
              "variable_name": "deaths_data_long"
            }
          },
          "metadata": {},
          "execution_count": 103
        }
      ]
    },
    {
      "cell_type": "markdown",
      "source": [
        "##**Q6.2: What is the total number of deaths reported per country up to the current date?**"
      ],
      "metadata": {
        "id": "GQzxDpZ7RxD2"
      }
    },
    {
      "cell_type": "code",
      "source": [
        "# Identifying which columns are “date” columns\n",
        "date_cols = deaths_data.columns[4:]"
      ],
      "metadata": {
        "id": "UisCS5zmRTER"
      },
      "execution_count": 104,
      "outputs": []
    },
    {
      "cell_type": "code",
      "source": [
        "# Pick the last date column (this will hold the cumulative deaths as of the most recent date)\n",
        "latest_date = date_cols[-1]"
      ],
      "metadata": {
        "id": "KlJI3eJoSAUA"
      },
      "execution_count": 105,
      "outputs": []
    },
    {
      "cell_type": "code",
      "source": [
        "# Group by Country/Region and sum the values under the latest date. This gives the total cumulative deaths per country up to the latest date.\n",
        "deaths_per_country = (\n",
        "    deaths_data\n",
        "    .groupby('Country/Region')[latest_date]\n",
        "    .sum()\n",
        "    .sort_values(ascending=False)\n",
        ")"
      ],
      "metadata": {
        "id": "JJstI48VSNiv"
      },
      "execution_count": 106,
      "outputs": []
    },
    {
      "cell_type": "code",
      "source": [
        "print(f\"Total cumulative deaths per country (as of {latest_date}):\\n\")\n",
        "print(deaths_per_country)"
      ],
      "metadata": {
        "colab": {
          "base_uri": "https://localhost:8080/"
        },
        "id": "26R4aFuySagn",
        "outputId": "8a50101c-9a7e-423f-f86c-46a890664070"
      },
      "execution_count": 107,
      "outputs": [
        {
          "output_type": "stream",
          "name": "stdout",
          "text": [
            "Total cumulative deaths per country (as of 5/29/21):\n",
            "\n",
            "Country/Region\n",
            "US                  594306.0\n",
            "Brazil              461057.0\n",
            "India               325972.0\n",
            "Mexico              223455.0\n",
            "United Kingdom      128037.0\n",
            "                      ...   \n",
            "Dominica                 0.0\n",
            "Micronesia               0.0\n",
            "Marshall Islands         0.0\n",
            "Holy See                 0.0\n",
            "Kiribati                 0.0\n",
            "Name: 5/29/21, Length: 193, dtype: float64\n"
          ]
        }
      ]
    },
    {
      "cell_type": "markdown",
      "source": [
        "##**Q6.3: What are the top 5 countries with the highest average daily deaths?**"
      ],
      "metadata": {
        "id": "lAOx4_V4Smeu"
      }
    },
    {
      "cell_type": "code",
      "source": [
        "# Identify which columns are “date” columns\n",
        "date_cols = deaths_data.columns[4:]"
      ],
      "metadata": {
        "id": "xOBVOxk0SpBA"
      },
      "execution_count": 108,
      "outputs": []
    },
    {
      "cell_type": "code",
      "source": [
        "# Group by Country/Region and sum cumulative counts across provinces for each date. This creates a dataframe where each row is a country and each column is a date’s cumulative deaths\n",
        "country_cum_deaths = deaths_data.groupby('Country/Region')[date_cols].sum()"
      ],
      "metadata": {
        "id": "n9JPjLeuWMUR"
      },
      "execution_count": 109,
      "outputs": []
    },
    {
      "cell_type": "code",
      "source": [
        "# Compute daily new deaths by taking a difference along the date‐axis (axis=1). For the first date, fill NaN with the cumulative value on that first date\n",
        "first_date = date_cols[0]\n",
        "daily_deaths = country_cum_deaths.diff(axis=1)\n",
        "daily_deaths[first_date] = country_cum_deaths[first_date]"
      ],
      "metadata": {
        "colab": {
          "base_uri": "https://localhost:8080/"
        },
        "id": "cQO_XGzIWaXf",
        "outputId": "59d9fa2d-3c79-4348-a355-705550d33be1"
      },
      "execution_count": 110,
      "outputs": [
        {
          "output_type": "stream",
          "name": "stderr",
          "text": [
            "<ipython-input-110-77e122928b47>:3: PerformanceWarning: DataFrame is highly fragmented.  This is usually the result of calling `frame.insert` many times, which has poor performance.  Consider joining all columns at once using pd.concat(axis=1) instead. To get a de-fragmented frame, use `newframe = frame.copy()`\n",
            "  daily_deaths = country_cum_deaths.diff(axis=1)\n"
          ]
        }
      ]
    },
    {
      "cell_type": "code",
      "source": [
        "# Compute the average daily deaths for each country over the entire period\n",
        "avg_daily_deaths = daily_deaths.mean(axis=1)"
      ],
      "metadata": {
        "id": "v0KduAH_WqDa"
      },
      "execution_count": 111,
      "outputs": []
    },
    {
      "cell_type": "code",
      "source": [
        "# Find the top 5 countries with the highest average daily deaths\n",
        "top5_avg_deaths = avg_daily_deaths.sort_values(ascending=False).head(5)"
      ],
      "metadata": {
        "id": "Nm6Jlno0Wvt7"
      },
      "execution_count": 112,
      "outputs": []
    },
    {
      "cell_type": "code",
      "source": [
        "print(\"Top 5 countries by average daily deaths:\\n\")\n",
        "print(top5_avg_deaths)"
      ],
      "metadata": {
        "colab": {
          "base_uri": "https://localhost:8080/"
        },
        "id": "bKS_HRgGW1zz",
        "outputId": "dc94316b-d69c-4b3f-fe25-77034162b41b"
      },
      "execution_count": 113,
      "outputs": [
        {
          "output_type": "stream",
          "name": "stdout",
          "text": [
            "Top 5 countries by average daily deaths:\n",
            "\n",
            "Country/Region\n",
            "US                1203.048583\n",
            "Brazil             933.313765\n",
            "India              659.862348\n",
            "Mexico             452.338057\n",
            "United Kingdom     259.184211\n",
            "dtype: float64\n"
          ]
        }
      ]
    },
    {
      "cell_type": "markdown",
      "source": [
        "##**Q6.4: How have the total deaths evolved over time in the United States?**"
      ],
      "metadata": {
        "id": "rb7pBIXOW9xa"
      }
    },
    {
      "cell_type": "code",
      "source": [
        "# Identify which columns are “date” columns\n",
        "date_cols = deaths_data.columns[4:]"
      ],
      "metadata": {
        "id": "02OYj2szW31Q"
      },
      "execution_count": 114,
      "outputs": []
    },
    {
      "cell_type": "code",
      "source": [
        "# Convert the date‐column names into a datetimeindex\n",
        "dates = pd.to_datetime(date_cols, format='%m/%d/%y')"
      ],
      "metadata": {
        "id": "38k2F1AMXQ8q"
      },
      "execution_count": 115,
      "outputs": []
    },
    {
      "cell_type": "code",
      "source": [
        "# Filter to only United States rows\n",
        "us_df = deaths_data[deaths_data['Country/Region'] == 'US']"
      ],
      "metadata": {
        "id": "it3_5tJnXfXb"
      },
      "execution_count": 116,
      "outputs": []
    },
    {
      "cell_type": "code",
      "source": [
        "# Sum cumulative deaths across any states/provinces for each date\n",
        "us_cumulative = us_df[date_cols].sum(axis=0)\n",
        "us_cumulative.index = dates"
      ],
      "metadata": {
        "id": "OB232U2XXo-W"
      },
      "execution_count": 117,
      "outputs": []
    },
    {
      "cell_type": "code",
      "source": [
        "us_timeseries = pd.DataFrame({\n",
        "    'Date': dates,\n",
        "    'Cumulative_Deaths': us_cumulative.values\n",
        "})"
      ],
      "metadata": {
        "id": "ubD8Wm1WXu9p"
      },
      "execution_count": 118,
      "outputs": []
    },
    {
      "cell_type": "code",
      "source": [
        "# Plot total deaths over time in the US\n",
        "plt.figure(figsize=(10, 5))\n",
        "plt.plot(us_timeseries['Date'], us_timeseries['Cumulative_Deaths'], lw=2, color='tab:red')\n",
        "plt.title(\"Cumulative COVID-19 Deaths Over Time in the United States\", pad=12)\n",
        "plt.xlabel(\"Date\", labelpad=8)\n",
        "plt.ylabel(\"Cumulative Deaths\", labelpad=8)\n",
        "plt.xticks(rotation=45, ha='right')\n",
        "plt.grid(linestyle='--', alpha=0.3)\n",
        "plt.tight_layout()\n",
        "plt.show()"
      ],
      "metadata": {
        "colab": {
          "base_uri": "https://localhost:8080/",
          "height": 507
        },
        "id": "JqlR4xDzXykp",
        "outputId": "d9bd17c2-34e9-4411-9bd5-46f56ea8f63a"
      },
      "execution_count": 119,
      "outputs": [
        {
          "output_type": "display_data",
          "data": {
            "text/plain": [
              "<Figure size 1000x500 with 1 Axes>"
            ],
            "image/png": "[encoded data removed]"
          },
          "metadata": {}
        }
      ]
    },
    {
      "cell_type": "markdown",
      "source": [
        "#**Question 7: Data Merging**"
      ],
      "metadata": {
        "id": "VsTCrblAX-iZ"
      }
    },
    {
      "cell_type": "markdown",
      "source": [
        "##**Q7.1: How would you merge the transformed datasets of confirmed cases, deaths, and recoveries on the 'Country/Region' and 'Date' columns to create a comprehensive view of the pandemic's impact?**"
      ],
      "metadata": {
        "id": "7ziPle97YBgo"
      }
    },
    {
      "cell_type": "markdown",
      "source": [
        "###**Transform the confirmed dataset to long format**"
      ],
      "metadata": {
        "id": "zU970QExZfw3"
      }
    },
    {
      "cell_type": "code",
      "source": [
        "# Identify non‐date columns and date columns\n",
        "non_date_cols = ['Province/State', 'Country/Region', 'Lat', 'Long']\n",
        "date_cols_conf = confirmed_data.columns[4:]"
      ],
      "metadata": {
        "id": "6Kh-3-FvYArx"
      },
      "execution_count": 120,
      "outputs": []
    },
    {
      "cell_type": "code",
      "source": [
        "# Melt to long format: one row per Country/Region‐Date with a “Confirmed” value\n",
        "confirmed_data_long = confirmed_data.melt(\n",
        "    id_vars=non_date_cols,\n",
        "    var_name='Date',\n",
        "    value_name='Confirmed'\n",
        ")"
      ],
      "metadata": {
        "id": "PSt3iwnUY3yA"
      },
      "execution_count": 122,
      "outputs": []
    },
    {
      "cell_type": "code",
      "source": [
        "# Convert Date to datetime\n",
        "confirmed_data_long['Date'] = pd.to_datetime(confirmed_data_long['Date'], format='%m/%d/%y')"
      ],
      "metadata": {
        "id": "KaLgyL5nY7hb"
      },
      "execution_count": 123,
      "outputs": []
    },
    {
      "cell_type": "code",
      "source": [
        "# Aggregate by Country/Region and Date (sum across provinces)\n",
        "confirmed_data_agg = (\n",
        "    confirmed_data_long\n",
        "    .groupby(['Country/Region', 'Date'], as_index=False)['Confirmed']\n",
        "    .sum()\n",
        ")"
      ],
      "metadata": {
        "id": "ocP6EMqvZNqZ"
      },
      "execution_count": 124,
      "outputs": []
    },
    {
      "cell_type": "markdown",
      "source": [
        "###**Transform the deaths dataset to long format**"
      ],
      "metadata": {
        "id": "9sxs4NQjZvFu"
      }
    },
    {
      "cell_type": "code",
      "source": [
        "# Identify date columns\n",
        "date_cols_deaths = deaths_data.columns[4:]"
      ],
      "metadata": {
        "id": "AP4xA6frZZLM"
      },
      "execution_count": 125,
      "outputs": []
    },
    {
      "cell_type": "code",
      "source": [
        "deaths_data_long = deaths_data.melt(\n",
        "    id_vars=non_date_cols,\n",
        "    var_name='Date',\n",
        "    value_name='Deaths'\n",
        ")"
      ],
      "metadata": {
        "id": "4t7VbpEFaAkd"
      },
      "execution_count": 126,
      "outputs": []
    },
    {
      "cell_type": "code",
      "source": [
        "deaths_data_long['Date'] = pd.to_datetime(deaths_data_long['Date'], format='%m/%d/%y')"
      ],
      "metadata": {
        "id": "uAq-ngFoaG8H"
      },
      "execution_count": 127,
      "outputs": []
    },
    {
      "cell_type": "code",
      "source": [
        "deaths_data_agg = (\n",
        "    deaths_data_long\n",
        "    .groupby(['Country/Region', 'Date'], as_index=False)['Deaths']\n",
        "    .sum()\n",
        ")"
      ],
      "metadata": {
        "id": "Os2unNAtaP7s"
      },
      "execution_count": 128,
      "outputs": []
    },
    {
      "cell_type": "markdown",
      "source": [
        "###**Transform the recovered dataset to long format**"
      ],
      "metadata": {
        "id": "ahmjEPUqabbH"
      }
    },
    {
      "cell_type": "code",
      "source": [
        "date_cols_recov = recovered_data.columns[4:]"
      ],
      "metadata": {
        "id": "TuZsahXdaXfJ"
      },
      "execution_count": 129,
      "outputs": []
    },
    {
      "cell_type": "code",
      "source": [
        "recovered_data_long = recovered_data.melt(\n",
        "    id_vars=non_date_cols,\n",
        "    var_name='Date',\n",
        "    value_name='Recovered'\n",
        ")"
      ],
      "metadata": {
        "id": "NNbKUCkdanxa"
      },
      "execution_count": 130,
      "outputs": []
    },
    {
      "cell_type": "code",
      "source": [
        "recovered_data_long['Date'] = pd.to_datetime(recovered_data_long['Date'], format='%m/%d/%y')"
      ],
      "metadata": {
        "id": "fYxPSq0JatkY"
      },
      "execution_count": 131,
      "outputs": []
    },
    {
      "cell_type": "code",
      "source": [
        "recovered_data_agg = (\n",
        "    recovered_data_long\n",
        "    .groupby(['Country/Region', 'Date'], as_index=False)['Recovered']\n",
        "    .sum()\n",
        ")"
      ],
      "metadata": {
        "id": "k1lZPgJ0a0N0"
      },
      "execution_count": 132,
      "outputs": []
    },
    {
      "cell_type": "markdown",
      "source": [
        "###**Merge the three aggregated DataFrames on ['Country/Region', 'Date']**"
      ],
      "metadata": {
        "id": "hhGX625HbBrH"
      }
    },
    {
      "cell_type": "code",
      "source": [
        "df_merge_cd = pd.merge(\n",
        "    confirmed_data_agg,\n",
        "    deaths_data_agg,\n",
        "    on=['Country/Region', 'Date'],\n",
        "    how='outer'\n",
        ")"
      ],
      "metadata": {
        "id": "epkw3k6qa7qW"
      },
      "execution_count": 133,
      "outputs": []
    },
    {
      "cell_type": "code",
      "source": [
        "df_full = pd.merge(\n",
        "    df_merge_cd,\n",
        "    recovered_data_agg,\n",
        "    on=['Country/Region', 'Date'],\n",
        "    how='outer'\n",
        ")"
      ],
      "metadata": {
        "id": "igy2tuajbPoV"
      },
      "execution_count": 134,
      "outputs": []
    },
    {
      "cell_type": "code",
      "source": [
        "# Fill any missing counts with 0 (if a country‐date has confirmed but no deaths/recovered)\n",
        "df_full[['Confirmed', 'Deaths', 'Recovered']] = df_full[['Confirmed', 'Deaths', 'Recovered']].fillna(0).astype(int)"
      ],
      "metadata": {
        "id": "IeNC5loIbSeR"
      },
      "execution_count": 135,
      "outputs": []
    },
    {
      "cell_type": "code",
      "source": [
        "df_full = df_full.sort_values(['Country/Region', 'Date']).reset_index(drop=True)"
      ],
      "metadata": {
        "id": "LN-teGW6be4m"
      },
      "execution_count": 136,
      "outputs": []
    },
    {
      "cell_type": "code",
      "source": [
        "print(df_full.head(50))\n",
        "print(\"\\nShape:\", df_full.shape)"
      ],
      "metadata": {
        "colab": {
          "base_uri": "https://localhost:8080/"
        },
        "id": "YTPYMo7FbgfO",
        "outputId": "4723cbce-20f5-4e57-9566-dd081a5d53ff"
      },
      "execution_count": 138,
      "outputs": [
        {
          "output_type": "stream",
          "name": "stdout",
          "text": [
            "   Country/Region       Date  Confirmed  Deaths  Recovered\n",
            "0     Afghanistan 2020-01-22          0       0          0\n",
            "1     Afghanistan 2020-01-23          0       0          0\n",
            "2     Afghanistan 2020-01-24          0       0          0\n",
            "3     Afghanistan 2020-01-25          0       0          0\n",
            "4     Afghanistan 2020-01-26          0       0          0\n",
            "5     Afghanistan 2020-01-27          0       0          0\n",
            "6     Afghanistan 2020-01-28          0       0          0\n",
            "7     Afghanistan 2020-01-29          0       0          0\n",
            "8     Afghanistan 2020-01-30          0       0          0\n",
            "9     Afghanistan 2020-01-31          0       0          0\n",
            "10    Afghanistan 2020-02-01          0       0          0\n",
            "11    Afghanistan 2020-02-02          0       0          0\n",
            "12    Afghanistan 2020-02-03          0       0          0\n",
            "13    Afghanistan 2020-02-04          0       0          0\n",
            "14    Afghanistan 2020-02-05          0       0          0\n",
            "15    Afghanistan 2020-02-06          0       0          0\n",
            "16    Afghanistan 2020-02-07          0       0          0\n",
            "17    Afghanistan 2020-02-08          0       0          0\n",
            "18    Afghanistan 2020-02-09          0       0          0\n",
            "19    Afghanistan 2020-02-10          0       0          0\n",
            "20    Afghanistan 2020-02-11          0       0          0\n",
            "21    Afghanistan 2020-02-12          0       0          0\n",
            "22    Afghanistan 2020-02-13          0       0          0\n",
            "23    Afghanistan 2020-02-14          0       0          0\n",
            "24    Afghanistan 2020-02-15          0       0          0\n",
            "25    Afghanistan 2020-02-16          0       0          0\n",
            "26    Afghanistan 2020-02-17          0       0          0\n",
            "27    Afghanistan 2020-02-18          0       0          0\n",
            "28    Afghanistan 2020-02-19          0       0          0\n",
            "29    Afghanistan 2020-02-20          0       0          0\n",
            "30    Afghanistan 2020-02-21          0       0          0\n",
            "31    Afghanistan 2020-02-22          0       0          0\n",
            "32    Afghanistan 2020-02-23          0       0          0\n",
            "33    Afghanistan 2020-02-24          1       0          0\n",
            "34    Afghanistan 2020-02-25          1       0          0\n",
            "35    Afghanistan 2020-02-26          1       0          0\n",
            "36    Afghanistan 2020-02-27          1       0          0\n",
            "37    Afghanistan 2020-02-28          1       0          0\n",
            "38    Afghanistan 2020-02-29          1       0          0\n",
            "39    Afghanistan 2020-03-01          1       0          0\n",
            "40    Afghanistan 2020-03-02          1       0          0\n",
            "41    Afghanistan 2020-03-03          2       0          0\n",
            "42    Afghanistan 2020-03-04          4       0          0\n",
            "43    Afghanistan 2020-03-05          4       0          0\n",
            "44    Afghanistan 2020-03-06          4       0          0\n",
            "45    Afghanistan 2020-03-07          4       0          0\n",
            "46    Afghanistan 2020-03-08          5       0          0\n",
            "47    Afghanistan 2020-03-09          7       0          0\n",
            "48    Afghanistan 2020-03-10          8       0          0\n",
            "49    Afghanistan 2020-03-11         11       0          0\n",
            "\n",
            "Shape: (95342, 5)\n"
          ]
        }
      ]
    },
    {
      "cell_type": "code",
      "source": [
        "print(df_full.tail(50))"
      ],
      "metadata": {
        "colab": {
          "base_uri": "https://localhost:8080/"
        },
        "id": "hEdC-XesbmHq",
        "outputId": "47124943-cf07-4dcb-e8dd-03b348d0e478"
      },
      "execution_count": 139,
      "outputs": [
        {
          "output_type": "stream",
          "name": "stdout",
          "text": [
            "      Country/Region       Date  Confirmed  Deaths  Recovered\n",
            "95292       Zimbabwe 2021-04-10      37273    1538      34862\n",
            "95293       Zimbabwe 2021-04-11      37288    1538      34873\n",
            "95294       Zimbabwe 2021-04-12      37307    1542      34901\n",
            "95295       Zimbabwe 2021-04-13      37330    1543      34932\n",
            "95296       Zimbabwe 2021-04-14      37369    1548      34946\n",
            "95297       Zimbabwe 2021-04-15      37422    1550      34961\n",
            "95298       Zimbabwe 2021-04-16      37534    1551      34981\n",
            "95299       Zimbabwe 2021-04-17      37699    1552      35005\n",
            "95300       Zimbabwe 2021-04-18      37751    1553      35019\n",
            "95301       Zimbabwe 2021-04-19      37859    1553      35031\n",
            "95302       Zimbabwe 2021-04-20      37875    1554      35058\n",
            "95303       Zimbabwe 2021-04-21      37980    1555      35065\n",
            "95304       Zimbabwe 2021-04-22      38018    1555      35073\n",
            "95305       Zimbabwe 2021-04-23      38045    1556      35094\n",
            "95306       Zimbabwe 2021-04-24      38064    1556      35101\n",
            "95307       Zimbabwe 2021-04-25      38086    1557      35123\n",
            "95308       Zimbabwe 2021-04-26      38102    1560      35149\n",
            "95309       Zimbabwe 2021-04-27      38164    1565      35480\n",
            "95310       Zimbabwe 2021-04-28      38191    1565      35517\n",
            "95311       Zimbabwe 2021-04-29      38235    1567      35594\n",
            "95312       Zimbabwe 2021-04-30      38257    1567      35612\n",
            "95313       Zimbabwe 2021-05-01      38260    1568      35620\n",
            "95314       Zimbabwe 2021-05-02      38281    1570      35634\n",
            "95315       Zimbabwe 2021-05-03      38293    1573      35647\n",
            "95316       Zimbabwe 2021-05-04      38327    1574      35775\n",
            "95317       Zimbabwe 2021-05-05      38357    1574      35811\n",
            "95318       Zimbabwe 2021-05-06      38398    1575      36027\n",
            "95319       Zimbabwe 2021-05-07      38403    1576      36041\n",
            "95320       Zimbabwe 2021-05-08      38414    1576      36052\n",
            "95321       Zimbabwe 2021-05-09      38419    1576      36063\n",
            "95322       Zimbabwe 2021-05-10      38433    1576      36208\n",
            "95323       Zimbabwe 2021-05-11      38448    1579      36221\n",
            "95324       Zimbabwe 2021-05-12      38466    1579      36277\n",
            "95325       Zimbabwe 2021-05-13      38491    1582      36286\n",
            "95326       Zimbabwe 2021-05-14      38535    1582      36308\n",
            "95327       Zimbabwe 2021-05-15      38554    1582      36318\n",
            "95328       Zimbabwe 2021-05-16      38560    1582      36329\n",
            "95329       Zimbabwe 2021-05-17      38572    1582      36349\n",
            "95330       Zimbabwe 2021-05-18      38595    1583      36371\n",
            "95331       Zimbabwe 2021-05-19      38612    1583      36416\n",
            "95332       Zimbabwe 2021-05-20      38635    1585      36427\n",
            "95333       Zimbabwe 2021-05-21      38664    1586      36435\n",
            "95334       Zimbabwe 2021-05-22      38679    1586      36445\n",
            "95335       Zimbabwe 2021-05-23      38682    1586      36453\n",
            "95336       Zimbabwe 2021-05-24      38696    1586      36471\n",
            "95337       Zimbabwe 2021-05-25      38706    1587      36517\n",
            "95338       Zimbabwe 2021-05-26      38819    1589      36531\n",
            "95339       Zimbabwe 2021-05-27      38854    1592      36541\n",
            "95340       Zimbabwe 2021-05-28      38918    1592      36563\n",
            "95341       Zimbabwe 2021-05-29      38933    1594      36578\n"
          ]
        }
      ]
    },
    {
      "cell_type": "markdown",
      "source": [
        "##**Q7.2: Analyze the monthly sum of confirmed cases, deaths, and recoveries for countries to understand the progression of the pandemic.[From the merged dataset]**"
      ],
      "metadata": {
        "id": "UoNx9u91b_Hd"
      }
    },
    {
      "cell_type": "code",
      "source": [
        "# ‘Date’ column is in datetime format\n",
        "df_full['Date'] = pd.to_datetime(df_full['Date'])"
      ],
      "metadata": {
        "id": "BlknBW3KbsfV"
      },
      "execution_count": 140,
      "outputs": []
    },
    {
      "cell_type": "code",
      "source": [
        "# Create a “Month” column from the Date\n",
        "df_full['Month'] = df_full['Date'].dt.to_period('M')"
      ],
      "metadata": {
        "id": "uorIYqP7cMS-"
      },
      "execution_count": 141,
      "outputs": []
    },
    {
      "cell_type": "code",
      "source": [
        "# Group by Country/Region and Month, summing Confirmed, Deaths, and Recovered\n",
        "monthly_summary = (\n",
        "    df_full\n",
        "    .groupby(['Country/Region', 'Month'], as_index=False)[['Confirmed', 'Deaths', 'Recovered']]\n",
        "    .sum()\n",
        ")"
      ],
      "metadata": {
        "id": "PXPIXmhEcSal"
      },
      "execution_count": 149,
      "outputs": []
    },
    {
      "cell_type": "code",
      "source": [
        "# View the first few rows of the monthly summary\n",
        "print(monthly_summary.head(50))"
      ],
      "metadata": {
        "colab": {
          "base_uri": "https://localhost:8080/"
        },
        "id": "uyLgK_jjcYKK",
        "outputId": "278090b7-0ab3-43b4-f73f-6edef830c89a"
      },
      "execution_count": 144,
      "outputs": [
        {
          "output_type": "stream",
          "name": "stdout",
          "text": [
            "   Country/Region    Month  Confirmed  Deaths  Recovered\n",
            "0     Afghanistan  2020-01          0       0          0\n",
            "1     Afghanistan  2020-02          6       0          0\n",
            "2     Afghanistan  2020-03       1164      27         26\n",
            "3     Afghanistan  2020-04      27074     890       2927\n",
            "4     Afghanistan  2020-05     225674    5007      24129\n",
            "5     Afghanistan  2020-06     750944   15016     184768\n",
            "6     Afghanistan  2020-07    1077247   33518     688117\n",
            "7     Afghanistan  2020-08    1163297   42101     843438\n",
            "8     Afghanistan  2020-09    1163868   42987     949104\n",
            "9     Afghanistan  2020-10    1245948   46287    1039280\n",
            "10    Afghanistan  2020-11    1308111   49133    1058724\n",
            "11    Afghanistan  2020-12    1522209   62357    1207801\n",
            "12    Afghanistan  2021-01    1668119   71838    1403684\n",
            "13    Afghanistan  2021-02    1553102   67864    1358287\n",
            "14    Afghanistan  2021-03    1737068   76227    1541980\n",
            "15    Afghanistan  2021-04    1733260   76300    1566429\n",
            "16    Afghanistan  2021-05    1849351   79523    1595705\n",
            "17        Albania  2020-01          0       0          0\n",
            "18        Albania  2020-02          0       0          0\n",
            "19        Albania  2020-03       2232      91        241\n",
            "20        Albania  2020-04      15632     728       7902\n",
            "21        Albania  2020-05      28873     975      21760\n",
            "22        Albania  2020-06      50880    1221      32742\n",
            "23        Albania  2020-07     119660    3302      67686\n",
            "24        Albania  2020-08     230278    6945     120294\n",
            "25        Albania  2020-09     350148   10286     200469\n",
            "26        Albania  2020-10     523084   13731     305370\n",
            "27        Albania  2020-11     866248   19239     424181\n",
            "28        Albania  2020-12    1540509   31857     819127\n",
            "29        Albania  2021-01    2088163   39480    1250570\n",
            "30        Albania  2021-02    2610775   44037    1622660\n",
            "31        Albania  2021-03    3652195   63810    2525857\n",
            "32        Albania  2021-04    3865660   69887    3010039\n",
            "33        Albania  2021-05    3824532   70366    3536358\n",
            "34        Algeria  2020-01          0       0          0\n",
            "35        Algeria  2020-02          5       0          0\n",
            "36        Algeria  2020-03       4823     324        594\n",
            "37        Algeria  2020-04      69497    9188      24072\n",
            "38        Algeria  2020-05     211394   16901     109804\n",
            "39        Algeria  2020-06     337819   23600     233399\n",
            "40        Algeria  2020-07     674286   32720     467472\n",
            "41        Algeria  2020-08    1185076   42428     826991\n",
            "42        Algeria  2020-09    1458290   48964    1026971\n",
            "43        Algeria  2020-10    1683631   57192    1177057\n",
            "44        Algeria  2020-11    2074384   65248    1373852\n",
            "45        Algeria  2020-12    2884170   81232    1902624\n",
            "46        Algeria  2021-01    3212268   87734    2181520\n",
            "47        Algeria  2021-02    3096714   82303    2126923\n",
            "48        Algeria  2021-03    3577898   94314    2481861\n",
            "49        Algeria  2021-04    3581338   94693    2495622\n"
          ]
        }
      ]
    },
    {
      "cell_type": "code",
      "source": [
        "print(monthly_summary.tail(50))"
      ],
      "metadata": {
        "colab": {
          "base_uri": "https://localhost:8080/"
        },
        "id": "kAaLt4bvc01L",
        "outputId": "ca825891-307e-4970-ba4b-983b7c960f48"
      },
      "execution_count": 145,
      "outputs": [
        {
          "output_type": "stream",
          "name": "stdout",
          "text": [
            "     Country/Region    Month  Confirmed  Deaths  Recovered\n",
            "3231          Yemen  2020-02          0       0          0\n",
            "3232          Yemen  2020-03          0       0          0\n",
            "3233          Yemen  2020-04         31       2          1\n",
            "3234          Yemen  2020-05       4101     786        134\n",
            "3235          Yemen  2020-06      23264    5932       5661\n",
            "3236          Yemen  2020-07      46644   12932      21371\n",
            "3237          Yemen  2020-08      57598   16517      30997\n",
            "3238          Yemen  2020-09      60327   17436      36687\n",
            "3239          Yemen  2020-10      63654   18462      41489\n",
            "3240          Yemen  2020-11      62038   18078      41312\n",
            "3241          Yemen  2020-12      64649   18799      42906\n",
            "3242          Yemen  2021-01      65439   18984      43880\n",
            "3243          Yemen  2021-02      60549   17322      40047\n",
            "3244          Yemen  2021-03      96700   22561      46994\n",
            "3245          Yemen  2021-04     167368   32574      65602\n",
            "3246          Yemen  2021-05     189704   37228      89442\n",
            "3247         Zambia  2020-01          0       0          0\n",
            "3248         Zambia  2020-02          0       0          0\n",
            "3249         Zambia  2020-03        194       0          0\n",
            "3250         Zambia  2020-04       1754      62        800\n",
            "3251         Zambia  2020-05      18622     188       8376\n",
            "3252         Zambia  2020-06      40038     372      32784\n",
            "3253         Zambia  2020-07      90582    2609      55223\n",
            "3254         Zambia  2020-08     290970    7617     253496\n",
            "3255         Zambia  2020-09     410862    9478     381094\n",
            "3256         Zambia  2020-10     486509   10616     460464\n",
            "3257         Zambia  2020-11     514878   10587     489788\n",
            "3258         Zambia  2020-12     579474   11513     547444\n",
            "3259         Zambia  2021-01    1112407   16955     878201\n",
            "3260         Zambia  2021-02    1923634   26461    1737994\n",
            "3261         Zambia  2021-03    2627072   35947    2515749\n",
            "3262         Zambia  2021-04    2711129   36985    2632790\n",
            "3263         Zambia  2021-05    2685828   36600    2631423\n",
            "3264       Zimbabwe  2020-01          0       0          0\n",
            "3265       Zimbabwe  2020-02          0       0          0\n",
            "3266       Zimbabwe  2020-03         53       9          0\n",
            "3267       Zimbabwe  2020-04        618      86         42\n",
            "3268       Zimbabwe  2020-05       1871     124        470\n",
            "3269       Zimbabwe  2020-06      12096     142       2113\n",
            "3270       Zimbabwe  2020-07      48113     721      13001\n",
            "3271       Zimbabwe  2020-08     163293    4136      95065\n",
            "3272       Zimbabwe  2020-09     223571    6617     172489\n",
            "3273       Zimbabwe  2020-10     251343    7230     225416\n",
            "3274       Zimbabwe  2020-11     268984    7811     244771\n",
            "3275       Zimbabwe  2020-12     366341    9807     302327\n",
            "3276       Zimbabwe  2021-01     787416   23012     531530\n",
            "3277       Zimbabwe  2021-02     984049   38753     849842\n",
            "3278       Zimbabwe  2021-03    1132264   46556    1056857\n",
            "3279       Zimbabwe  2021-04    1126565   46375    1050250\n",
            "3280       Zimbabwe  2021-05    1118004   45855    1050714\n"
          ]
        }
      ]
    },
    {
      "cell_type": "markdown",
      "source": [
        "##**Q7.3: Redo the analysis in Question 7.2 for the United States, Italy, and Brazil.**"
      ],
      "metadata": {
        "id": "HOYN6k8Sc987"
      }
    },
    {
      "cell_type": "code",
      "source": [
        "# Filter for United States, Italy, and Brazil\n",
        "countries = ['US','Italy','Brazil']\n",
        "selected = monthly_summary[monthly_summary['Country/Region'].isin(countries)]"
      ],
      "metadata": {
        "id": "UHq5vIjgdW4m"
      },
      "execution_count": 150,
      "outputs": []
    },
    {
      "cell_type": "code",
      "source": [
        "# Display the monthly totals for those three countries\n",
        "print(selected)"
      ],
      "metadata": {
        "colab": {
          "base_uri": "https://localhost:8080/"
        },
        "id": "m_IDM4-yddg0",
        "outputId": "e9bf3640-b3f5-4085-f641-fd75fd764382"
      },
      "execution_count": 151,
      "outputs": [
        {
          "output_type": "stream",
          "name": "stdout",
          "text": [
            "     Country/Region    Month  Confirmed    Deaths  Recovered\n",
            "391          Brazil  2020-01          0         0          0\n",
            "392          Brazil  2020-02          5         0          0\n",
            "393          Brazil  2020-03      37127       976        290\n",
            "394          Brazil  2020-04    1048506     66571     400893\n",
            "395          Brazil  2020-05    7944285    509030    3206734\n",
            "396          Brazil  2020-06   28161222   1353392   14780735\n",
            "397          Brazil  2020-07   62641865   2370476   43861433\n",
            "398          Brazil  2020-08  102903896   3345405   82386569\n",
            "399          Brazil  2020-09  132059962   4004352  114602710\n",
            "400          Brazil  2020-10  160991539   4732789  141354942\n",
            "401          Brazil  2020-11  176837421   4986319  159574214\n",
            "402          Brazil  2020-12  218249737   5702548  193984367\n",
            "403          Brazil  2021-01  261187142   6483686  231929489\n",
            "404          Brazil  2021-02  276456100   6713342  246496738\n",
            "405          Brazil  2021-03  361059664   8826515  318572764\n",
            "406          Brazil  2021-04  412565115  10952414  363175044\n",
            "407          Brazil  2021-05  451476923  12576769  399216803\n",
            "1445          Italy  2020-01          2         0          0\n",
            "1446          Italy  2020-02       3966       102        145\n",
            "1447          Italy  2020-03    1209772    116616     145571\n",
            "1448          Italy  2020-04    4928524    644171    1266518\n",
            "1449          Italy  2020-05    6914863    973585    3706270\n",
            "1450          Italy  2020-06    7115232   1028841    5284972\n",
            "1451          Italy  2020-07    7560745   1084927    6067991\n",
            "1452          Italy  2020-08    7919622   1095146    6319921\n",
            "1453          Italy  2020-09    8749361   1069880    6480454\n",
            "1454          Italy  2020-10   13281216   1137835    7782506\n",
            "1455          Italy  2020-11   35324374   1385115   14088374\n",
            "1456          Italy  2020-12   58293082   2046224   35800929\n",
            "1457          Italy  2021-01   72917277   2531790   53778917\n",
            "1458          Italy  2021-02   76429829   2622056   62397634\n",
            "1459          Italy  2021-03  101162913   3201000   81820395\n",
            "1460          Italy  2021-04  114799462   3472382   96128071\n",
            "1461          Italy  2021-05  120086716   3591221  106730773\n",
            "3043             US  2020-01         41         0          0\n",
            "3044             US  2020-02        402         1         88\n",
            "3045             US  2020-03    1120122     25980      19730\n",
            "3046             US  2020-04   19959287   1070244    1747977\n",
            "3047             US  2020-05   45533906   2802993    8720047\n",
            "3048             US  2020-06   64964762   3574559   17434297\n",
            "3049             US  2020-07  111371152   4328108   34028380\n",
            "3050             US  2020-08  166357378   5269479   56877502\n",
            "3051             US  2020-09  199220181   5889056   75486815\n",
            "3052             US  2020-10  251406215   6796591   99506279\n",
            "3053             US  2020-11  339796331   7504859  128470711\n",
            "3054             US  2020-12  528139775   9676987   74680002\n",
            "3055             US  2021-01  730894746  12443946          0\n",
            "3056             US  2021-02  774254261  13633706          0\n",
            "3057             US  2021-03  916643837  16649633          0\n",
            "3058             US  2021-04  944543693  16967994          0\n",
            "3059             US  2021-05  953529915  16981908          0\n"
          ]
        }
      ]
    },
    {
      "cell_type": "markdown",
      "source": [
        "#**Question 8: Combined Data Analysis**"
      ],
      "metadata": {
        "id": "bpbYKx5yd0Hk"
      }
    },
    {
      "cell_type": "markdown",
      "source": [
        "##**Q8.1: For the combined dataset, identify the three countries with the highest average death rates (deaths/confirmed cases) throughout 2020. What might this indicate about the pandemic's impact in these countries?**"
      ],
      "metadata": {
        "id": "JSxzj-zGi2f-"
      }
    },
    {
      "cell_type": "code",
      "source": [
        "# Filter to year 2020\n",
        "df_2020 = df_full[df_full['Date'].dt.year == 2020].copy()"
      ],
      "metadata": {
        "id": "EKpW0XQTdfaZ"
      },
      "execution_count": 152,
      "outputs": []
    },
    {
      "cell_type": "code",
      "source": [
        "# Calculate daily death rate for each country-date\n",
        "\n",
        "# Avoid division by zero by checking Confirmed > 0\n",
        "df_2020['Death Rate'] = df_2020.apply(\n",
        "    lambda row: row['Deaths'] / row['Confirmed'] if row['Confirmed'] > 0 else 0,\n",
        "    axis=1\n",
        ")"
      ],
      "metadata": {
        "id": "LduOwIL4i8a2"
      },
      "execution_count": 153,
      "outputs": []
    },
    {
      "cell_type": "code",
      "source": [
        "# Compute average death rate per country in 2020\n",
        "avg_death_rate = df_2020.groupby('Country/Region')['Death Rate'].mean()"
      ],
      "metadata": {
        "id": "pchJSPrIjL-W"
      },
      "execution_count": 154,
      "outputs": []
    },
    {
      "cell_type": "code",
      "source": [
        "# Identify the top 3 countries\n",
        "top3 = avg_death_rate.sort_values(ascending=False).head(3)"
      ],
      "metadata": {
        "id": "6lB5YaSvjR2u"
      },
      "execution_count": 155,
      "outputs": []
    },
    {
      "cell_type": "code",
      "source": [
        "print(\"Top 3 countries by average death rate during 2020:\\n\")\n",
        "for country, rate in top3.items():\n",
        "    print(f\"{country}: {rate:.2%}\")"
      ],
      "metadata": {
        "colab": {
          "base_uri": "https://localhost:8080/"
        },
        "id": "nZ1NmXxYjV4O",
        "outputId": "afa8d904-0d0b-4de7-ec2b-8c633b1bf721"
      },
      "execution_count": 156,
      "outputs": [
        {
          "output_type": "stream",
          "name": "stdout",
          "text": [
            "Top 3 countries by average death rate during 2020:\n",
            "\n",
            "Yemen: 19.24%\n",
            "MS Zaandam: 17.71%\n",
            "Italy: 9.46%\n"
          ]
        }
      ]
    },
    {
      "cell_type": "markdown",
      "source": [
        "**High average death rates hint at strained healthcare, under-tested outbreaks, and more severe outcomes in these countries.**"
      ],
      "metadata": {
        "id": "079S51cyj6JF"
      }
    },
    {
      "cell_type": "markdown",
      "source": [
        "##**Q8.2: Using the merged dataset, compare the total number of recoveries to the total number of deaths in South Africa. What can this tell us about the outcomes of COVID-19 cases in the country?**"
      ],
      "metadata": {
        "id": "kVMm4MhPkUgU"
      }
    },
    {
      "cell_type": "code",
      "source": [
        "# Filter for South Africa and pick the most recent date\n",
        "sa = df_full[df_full['Country/Region'] == 'South Africa']\n",
        "latest = sa['Date'].max()\n",
        "sa_latest = sa[sa['Date'] == latest].iloc[0]"
      ],
      "metadata": {
        "id": "0XnpxULQj8mO"
      },
      "execution_count": 157,
      "outputs": []
    },
    {
      "cell_type": "code",
      "source": [
        "total_deaths     = sa_latest['Deaths']\n",
        "total_recoveries = sa_latest['Recovered']"
      ],
      "metadata": {
        "id": "XynJUjNWkh-N"
      },
      "execution_count": 158,
      "outputs": []
    },
    {
      "cell_type": "code",
      "source": [
        "print(f\"As of {latest.date()}:\")\n",
        "print(f\"  Total deaths:     {total_deaths}\")\n",
        "print(f\"  Total recoveries: {total_recoveries}\")"
      ],
      "metadata": {
        "colab": {
          "base_uri": "https://localhost:8080/"
        },
        "id": "iskbWYeIkk0k",
        "outputId": "9c390bb0-5af4-4906-cd1e-488e6541d073"
      },
      "execution_count": 159,
      "outputs": [
        {
          "output_type": "stream",
          "name": "stdout",
          "text": [
            "As of 2021-05-29:\n",
            "  Total deaths:     56363\n",
            "  Total recoveries: 1554184\n"
          ]
        }
      ]
    },
    {
      "cell_type": "code",
      "source": [
        "if total_recoveries > total_deaths:\n",
        "    print(\"Recoveries exceed deaths, indicating that most COVID-19 cases in South Africa resulted in recovery.\")\n",
        "else:\n",
        "    print(\"Deaths exceed or match recoveries, suggesting a more severe outcome overall.\")"
      ],
      "metadata": {
        "colab": {
          "base_uri": "https://localhost:8080/"
        },
        "id": "7tg53lRbkoDd",
        "outputId": "1c1b5c42-34f4-4885-aedd-2dd20ec1b98e"
      },
      "execution_count": 161,
      "outputs": [
        {
          "output_type": "stream",
          "name": "stdout",
          "text": [
            "Recoveries exceed deaths, indicating that most COVID-19 cases in South Africa resulted in recovery.\n"
          ]
        }
      ]
    },
    {
      "cell_type": "markdown",
      "source": [
        "**Recoveries are much higher than deaths, it means the majority of diagnosed infections resolved without fatality—suggesting that, despite pressures on the health system, most South African cases ended in recovery.**"
      ],
      "metadata": {
        "id": "60X9JGqLk20S"
      }
    },
    {
      "cell_type": "markdown",
      "source": [
        "##**Q8.3: Analyze the ratio of recoveries to confirmed cases for the United States monthly from March 2020 to May 2021. Which month experienced the highest recovery ratio, and what could be the potential reasons?**"
      ],
      "metadata": {
        "id": "SU8byMwblMgL"
      }
    },
    {
      "cell_type": "code",
      "source": [
        "# Filter to United States and to the date range March 2020 – May 2021\n",
        "us = df_full[df_full['Country/Region'] == 'US'].copy()\n",
        "us['Date'] = pd.to_datetime(us['Date'])"
      ],
      "metadata": {
        "id": "1q_6Lvm8k51b"
      },
      "execution_count": 162,
      "outputs": []
    },
    {
      "cell_type": "code",
      "source": [
        "mask = (us['Date'] >= '2020-03-01') & (us['Date'] <= '2021-05-31')\n",
        "us = us.loc[mask]"
      ],
      "metadata": {
        "id": "EqZZtZkxqHsA"
      },
      "execution_count": 163,
      "outputs": []
    },
    {
      "cell_type": "code",
      "source": [
        "# Create a “Month” column (Period) from the Date\n",
        "us['Month'] = us['Date'].dt.to_period('M')"
      ],
      "metadata": {
        "id": "4dpEK9G8qKzO"
      },
      "execution_count": 164,
      "outputs": []
    },
    {
      "cell_type": "code",
      "source": [
        "# Aggregate by Month: sum Confirmed and Recovered\n",
        "monthly_us = (\n",
        "    us\n",
        "    .groupby('Month', as_index=False)[['Confirmed', 'Recovered']]\n",
        "    .sum()\n",
        ")"
      ],
      "metadata": {
        "id": "7p0pKurtqVqo"
      },
      "execution_count": 165,
      "outputs": []
    },
    {
      "cell_type": "code",
      "source": [
        "# Compute Recovery Ratio = Recovered / Confirmed for each month\n",
        "monthly_us['Recovery_Ratio'] = monthly_us['Recovered'] / monthly_us['Confirmed']"
      ],
      "metadata": {
        "id": "aze4yWiDqbjH"
      },
      "execution_count": 166,
      "outputs": []
    },
    {
      "cell_type": "code",
      "source": [
        "# Find the month with the highest Recovery_Ratio\n",
        "best_row = monthly_us.loc[monthly_us['Recovery_Ratio'].idxmax()]"
      ],
      "metadata": {
        "id": "PFJv77-QqhOS"
      },
      "execution_count": 168,
      "outputs": []
    },
    {
      "cell_type": "code",
      "source": [
        "print(\"Monthly recovery ratios for US (Mar 2020–May 2021):\\n\")\n",
        "print(monthly_us[['Month', 'Confirmed', 'Recovered', 'Recovery_Ratio']])"
      ],
      "metadata": {
        "colab": {
          "base_uri": "https://localhost:8080/"
        },
        "id": "1lm1nvlLqrjb",
        "outputId": "5ab44eba-ed8d-48f5-c050-da289f25860f"
      },
      "execution_count": 170,
      "outputs": [
        {
          "output_type": "stream",
          "name": "stdout",
          "text": [
            "Monthly recovery ratios for US (Mar 2020–May 2021):\n",
            "\n",
            "      Month  Confirmed  Recovered  Recovery_Ratio\n",
            "0   2020-03    1120122      19730        0.017614\n",
            "1   2020-04   19959287    1747977        0.087577\n",
            "2   2020-05   45533906    8720047        0.191507\n",
            "3   2020-06   64964762   17434297        0.268365\n",
            "4   2020-07  111371152   34028380        0.305540\n",
            "5   2020-08  166357378   56877502        0.341899\n",
            "6   2020-09  199220181   75486815        0.378911\n",
            "7   2020-10  251406215   99506279        0.395799\n",
            "8   2020-11  339796331  128470711        0.378082\n",
            "9   2020-12  528139775   74680002        0.141402\n",
            "10  2021-01  730894746          0        0.000000\n",
            "11  2021-02  774254261          0        0.000000\n",
            "12  2021-03  916643837          0        0.000000\n",
            "13  2021-04  944543693          0        0.000000\n",
            "14  2021-05  953529915          0        0.000000\n"
          ]
        }
      ]
    },
    {
      "cell_type": "code",
      "source": [
        "print(f\"\\nHighest recovery ratio was in {best_row['Month']}: \"\n",
        "      f\"{best_row['Recovery_Ratio']:.2%} \"\n",
        "      f\"({best_row['Recovered']} recoveries / {best_row['Confirmed']} confirmed).\")"
      ],
      "metadata": {
        "colab": {
          "base_uri": "https://localhost:8080/"
        },
        "id": "0IJwHPbtq3DV",
        "outputId": "5274856a-e7df-4584-ebce-1034de287be2"
      },
      "execution_count": 171,
      "outputs": [
        {
          "output_type": "stream",
          "name": "stdout",
          "text": [
            "\n",
            "Highest recovery ratio was in 2020-10: 39.58% (99506279 recoveries / 251406215 confirmed).\n"
          ]
        }
      ]
    }
  ]
}